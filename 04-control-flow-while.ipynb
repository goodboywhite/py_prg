{
 "cells": [
  {
   "cell_type": "markdown",
   "metadata": {
    "slideshow": {
     "slide_type": "slide"
    }
   },
   "source": [
    "# 成為初級資料分析師 | Python 程式設計\n",
    "\n",
    "> 流程控制：`while` 迴圈\n",
    "\n",
    "## 郭耀仁"
   ]
  },
  {
   "cell_type": "markdown",
   "metadata": {
    "slideshow": {
     "slide_type": "subslide"
    }
   },
   "source": [
    "> When you’ve given the same in-person advice 3 times, write a blog post.\n",
    ">\n",
    "> David Robinson"
   ]
  },
  {
   "cell_type": "markdown",
   "metadata": {
    "slideshow": {
     "slide_type": "subslide"
    }
   },
   "source": [
    "## 大綱\n",
    "\n",
    "- 布林的應用場景\n",
    "- `while` 迴圈"
   ]
  },
  {
   "cell_type": "markdown",
   "metadata": {
    "slideshow": {
     "slide_type": "slide"
    }
   },
   "source": [
    "## 布林的應用場景"
   ]
  },
  {
   "cell_type": "markdown",
   "metadata": {
    "slideshow": {
     "slide_type": "subslide"
    }
   },
   "source": [
    "## 布林之後會出現在\n",
    "\n",
    "- 條件判斷\n",
    "- **`while` 迴圈**\n",
    "- 資料篩選"
   ]
  },
  {
   "cell_type": "markdown",
   "metadata": {
    "slideshow": {
     "slide_type": "subslide"
    }
   },
   "source": [
    "## 迴圈是用來解決需要反覆執行、大量手動複製貼上程式碼的任務"
   ]
  },
  {
   "cell_type": "markdown",
   "metadata": {
    "slideshow": {
     "slide_type": "subslide"
    }
   },
   "source": [
    "## 回憶判斷奇數偶數的練習\n",
    "\n",
    "```\n",
    "## 請輸入一個正整數：5566\n",
    "## 5566 是偶數\n",
    "## 請輸入一個正整數：87\n",
    "## 87 是奇數\n",
    "```"
   ]
  },
  {
   "cell_type": "code",
   "execution_count": null,
   "metadata": {
    "slideshow": {
     "slide_type": "subslide"
    }
   },
   "outputs": [],
   "source": [
    "user_int = input(\"請輸入一個正整數：\")\n",
    "user_int = int(user_int)\n",
    "if user_int % 2 == 0:\n",
    "    print(\"{} 是偶數\".format(user_int))\n",
    "else:\n",
    "    print(\"{} 是奇數\".format(user_int))"
   ]
  },
  {
   "cell_type": "markdown",
   "metadata": {
    "slideshow": {
     "slide_type": "subslide"
    }
   },
   "source": [
    "## 假如題目修改為：請印出介於 1 到 100 之間的偶數"
   ]
  },
  {
   "cell_type": "code",
   "execution_count": null,
   "metadata": {
    "slideshow": {
     "slide_type": "subslide"
    }
   },
   "outputs": [],
   "source": [
    "print(2)\n",
    "print(4)\n",
    "#...\n",
    "print(100)"
   ]
  },
  {
   "cell_type": "markdown",
   "metadata": {
    "slideshow": {
     "slide_type": "slide"
    }
   },
   "source": [
    "## `while` 迴圈"
   ]
  },
  {
   "cell_type": "markdown",
   "metadata": {
    "slideshow": {
     "slide_type": "subslide"
    }
   },
   "source": [
    "## `while` 迴圈的 Code Block\n",
    "\n",
    "- 重複的起始值\n",
    "- `while` 保留字\n",
    "- 任務重複的運行條件\n",
    "- 縮排中編寫重複運行的程式（整合前面課堂所學得的知識）\n",
    "- 更新"
   ]
  },
  {
   "cell_type": "markdown",
   "metadata": {
    "slideshow": {
     "slide_type": "subslide"
    }
   },
   "source": [
    "```python\n",
    "i = ... # 重複的起始值\n",
    "while <Boolean>: # while 保留字、任務重複的運行條件\n",
    "    # 縮排中編寫重複運行的程式\n",
    "    # 更新\n",
    "```"
   ]
  },
  {
   "cell_type": "markdown",
   "metadata": {
    "slideshow": {
     "slide_type": "subslide"
    }
   },
   "source": [
    "## 印出介於 1 到 100 之間的整數"
   ]
  },
  {
   "cell_type": "code",
   "execution_count": null,
   "metadata": {},
   "outputs": [],
   "source": [
    "num = 1 # 重複的起始值\n",
    "while num <= 100: # while 保留字、任務重複的運行條件\n",
    "    print(num) # 縮排中編寫重複運行的程式\n",
    "    num += 1 # 更新"
   ]
  },
  {
   "cell_type": "markdown",
   "metadata": {
    "slideshow": {
     "slide_type": "subslide"
    }
   },
   "source": [
    "## 常見的迴圈任務不會只是 `print()`\n",
    "\n",
    "- 計數（Counter）\n",
    "- 加總（Summation）"
   ]
  },
  {
   "cell_type": "markdown",
   "metadata": {
    "slideshow": {
     "slide_type": "subslide"
    }
   },
   "source": [
    "## 計算 1 到 100 的之間有幾個整數"
   ]
  },
  {
   "cell_type": "code",
   "execution_count": null,
   "metadata": {},
   "outputs": [],
   "source": [
    "# 計數\n",
    "num = 1 # 重複的起始值\n",
    "num_cnt = 0\n",
    "while num <= 100: # while 保留字、任務重複的運行條件\n",
    "    num_cnt += 1 # 縮排中編寫重複運行的程式\n",
    "    num += 1 # 更新\n",
    "print(num_cnt)"
   ]
  },
  {
   "cell_type": "markdown",
   "metadata": {
    "slideshow": {
     "slide_type": "subslide"
    }
   },
   "source": [
    "## 計算 1 加到 100 的總和：[The Story of Gauss](https://www.nctm.org/Publications/Teaching-Children-Mathematics/Blog/The-Story-of-Gauss/)"
   ]
  },
  {
   "cell_type": "code",
   "execution_count": null,
   "metadata": {
    "slideshow": {
     "slide_type": "-"
    }
   },
   "outputs": [],
   "source": [
    "# 加總\n",
    "num = 1 # 重複的起始值\n",
    "summation = 0\n",
    "while num <= 100: # while 保留字、任務重複的運行條件\n",
    "    summation += num # 縮排中編寫重複運行的程式\n",
    "    num += 1 # 更新\n",
    "print(summation)"
   ]
  },
  {
   "cell_type": "markdown",
   "metadata": {
    "slideshow": {
     "slide_type": "subslide"
    }
   },
   "source": [
    "## 印出介於 1 到 100 之間的偶數"
   ]
  },
  {
   "cell_type": "code",
   "execution_count": null,
   "metadata": {},
   "outputs": [],
   "source": [
    "num = 2 # 重複的起始值\n",
    "while num < 102: # while 保留字、任務重複的運行條件\n",
    "    print(num) # 縮排中編寫重複運行的程式\n",
    "    num += 2 # 更新"
   ]
  },
  {
   "cell_type": "markdown",
   "metadata": {
    "slideshow": {
     "slide_type": "subslide"
    }
   },
   "source": [
    "## 隨堂練習"
   ]
  },
  {
   "cell_type": "markdown",
   "metadata": {
    "slideshow": {
     "slide_type": "subslide"
    }
   },
   "source": [
    "## 印出介於 x 到 y 之間的奇數（包含 x 與 y 假如它們是奇數）"
   ]
  },
  {
   "cell_type": "code",
   "execution_count": null,
   "metadata": {
    "slideshow": {
     "slide_type": "subslide"
    }
   },
   "outputs": [],
   "source": [
    "x = int(input(\"請輸入起始的正整數：\"))\n",
    "y = int(input(\"請輸入終止的正整數：\"))\n",
    "while x <= y:\n",
    "    if x % 2 == 1:\n",
    "        print(x)\n",
    "    x += 1"
   ]
  },
  {
   "cell_type": "markdown",
   "metadata": {
    "slideshow": {
     "slide_type": "subslide"
    }
   },
   "source": [
    "## 承接上題，介於 x 到 y 之間的奇數有幾個（包含 x 與 y 假如它們是奇數）"
   ]
  },
  {
   "cell_type": "code",
   "execution_count": null,
   "metadata": {
    "slideshow": {
     "slide_type": "subslide"
    }
   },
   "outputs": [],
   "source": [
    "x = int(input(\"請輸入起始的正整數：\"))\n",
    "y = int(input(\"請輸入終止的正整數：\"))\n",
    "odd_cnt = 0\n",
    "while x <= y:\n",
    "    if x % 2 == 1:\n",
    "        odd_cnt += 1\n",
    "    x += 1\n",
    "print(odd_cnt)"
   ]
  },
  {
   "cell_type": "markdown",
   "metadata": {
    "slideshow": {
     "slide_type": "subslide"
    }
   },
   "source": [
    "## 承接上題，介於 x 到 y 之間的奇數加總為何（包含 x 與 y 假如它們是奇數）"
   ]
  },
  {
   "cell_type": "code",
   "execution_count": null,
   "metadata": {
    "slideshow": {
     "slide_type": "subslide"
    }
   },
   "outputs": [],
   "source": [
    "x = int(input(\"請輸入起始的正整數：\"))\n",
    "y = int(input(\"請輸入終止的正整數：\"))\n",
    "odd_cnt = 0\n",
    "odd_summation = 0\n",
    "while x <= y:\n",
    "    if x % 2 == 1:\n",
    "        odd_cnt += 1\n",
    "        odd_summation += x\n",
    "    x += 1\n",
    "print(odd_cnt)\n",
    "print(odd_summation)"
   ]
  },
  {
   "cell_type": "markdown",
   "metadata": {
    "slideshow": {
     "slide_type": "subslide"
    }
   },
   "source": [
    "## 判斷質數\n",
    "\n",
    "在大於 1 的正整數中，除了 1 和該數自身外，無法被其他正整數整除的數字。"
   ]
  },
  {
   "cell_type": "code",
   "execution_count": null,
   "metadata": {
    "slideshow": {
     "slide_type": "subslide"
    }
   },
   "outputs": [],
   "source": [
    "user_int = int(input(\"請輸入一個正整數：\"))\n",
    "i = 1\n",
    "divisor_cnts = 0\n",
    "while i <= user_int:\n",
    "    if user_int % i == 0:\n",
    "        divisor_cnts += 1\n",
    "    i += 1\n",
    "\n",
    "if divisor_cnts == 2:\n",
    "    print(\"{} 是質數\".format(user_int))\n",
    "else:\n",
    "    print(\"{} 不是質數\".format(user_int))"
   ]
  },
  {
   "cell_type": "markdown",
   "metadata": {
    "slideshow": {
     "slide_type": "subslide"
    }
   },
   "source": [
    "## 可搭配使用的保留字\n",
    "\n",
    "- `break`\n",
    "- `continue`"
   ]
  },
  {
   "cell_type": "markdown",
   "metadata": {
    "slideshow": {
     "slide_type": "subslide"
    }
   },
   "source": [
    "## 判斷質數：印出重複次數"
   ]
  },
  {
   "cell_type": "code",
   "execution_count": null,
   "metadata": {},
   "outputs": [],
   "source": [
    "user_int = int(input(\"請輸入一個正整數：\"))\n",
    "i = 1\n",
    "divisor_cnts = 0\n",
    "while i <= user_int:\n",
    "    if user_int % i == 0:\n",
    "        divisor_cnts += 1\n",
    "    print(\"重複第 {} 次\".format(i))\n",
    "    i += 1\n",
    "\n",
    "if divisor_cnts == 2:\n",
    "    print(\"{} 是質數\".format(user_int))\n",
    "else:\n",
    "    print(\"{} 不是質數\".format(user_int))"
   ]
  },
  {
   "cell_type": "markdown",
   "metadata": {
    "slideshow": {
     "slide_type": "subslide"
    }
   },
   "source": [
    "## 判斷質數：加入 `break`"
   ]
  },
  {
   "cell_type": "code",
   "execution_count": null,
   "metadata": {},
   "outputs": [],
   "source": [
    "user_int = int(input(\"請輸入一個正整數：\"))\n",
    "i = 1\n",
    "divisor_cnts = 0\n",
    "while i <= user_int:\n",
    "    if user_int % i == 0:\n",
    "        divisor_cnts += 1\n",
    "    print(\"重複第 {} 次\".format(i))\n",
    "    i += 1\n",
    "    if divisor_cnts > 2:\n",
    "        break\n",
    "\n",
    "if divisor_cnts == 2:\n",
    "    print(\"{} 是質數\".format(user_int))\n",
    "else:\n",
    "    print(\"{} 不是質數\".format(user_int))"
   ]
  },
  {
   "cell_type": "markdown",
   "metadata": {
    "slideshow": {
     "slide_type": "slide"
    }
   },
   "source": [
    "# 作業"
   ]
  },
  {
   "cell_type": "markdown",
   "metadata": {
    "slideshow": {
     "slide_type": "subslide"
    }
   },
   "source": [
    "## Fizz-Buzz with `while`\n",
    "\n",
    "- 從 1 印到 100\n",
    "- 如果是 3 的倍數印出 \"Fizz\"\n",
    "- 如果是 5 的倍數印出 \"Buzz\"\n",
    "- 如果是 15 的倍數印出 \"Fizz Buzz\"\n",
    "- 其他情況印出該正整數即可"
   ]
  },
  {
   "cell_type": "markdown",
   "metadata": {
    "slideshow": {
     "slide_type": "subslide"
    }
   },
   "source": [
    "## 執行範例\n",
    "\n",
    "```\n",
    "## 1\n",
    "## 2\n",
    "## Fizz\n",
    "## 4\n",
    "## Buzz\n",
    "## ...\n",
    "## 14\n",
    "## Fizz Buzz\n",
    "## ...\n",
    "## 98\n",
    "## Fizz\n",
    "## Buzz\n",
    "```"
   ]
  },
  {
   "cell_type": "markdown",
   "metadata": {
    "slideshow": {
     "slide_type": "subslide"
    }
   },
   "source": [
    "## 介於 x 到 y 之間的質數個數為何（包含 x 與 y 假如它們是奇數）"
   ]
  },
  {
   "cell_type": "markdown",
   "metadata": {
    "slideshow": {
     "slide_type": "subslide"
    }
   },
   "source": [
    "## 執行範例\n",
    "\n",
    "```\n",
    "## 請輸入起始的正整數：5\n",
    "## 請輸入終止的正整數：11\n",
    "## 介於 5 到 11 之間的質數有 3 個\n",
    "##\n",
    "## 請輸入起始的正整數：5\n",
    "## 請輸入終止的正整數：15\n",
    "## 介於 5 到 11 之間的質數有 4 個\n",
    "```"
   ]
  }
 ],
 "metadata": {
  "celltoolbar": "Slideshow",
  "kernelspec": {
   "display_name": "Python 3",
   "language": "python",
   "name": "python3"
  },
  "language_info": {
   "codemirror_mode": {
    "name": "ipython",
    "version": 3
   },
   "file_extension": ".py",
   "mimetype": "text/x-python",
   "name": "python",
   "nbconvert_exporter": "python",
   "pygments_lexer": "ipython3",
   "version": "3.7.1"
  }
 },
 "nbformat": 4,
 "nbformat_minor": 2
}
