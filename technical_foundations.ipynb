{
 "cells": [
  {
   "cell_type": "markdown",
   "metadata": {
    "slideshow": {
     "slide_type": "slide"
    }
   },
   "source": [
    "# （選修）技術基礎\n",
    "\n",
    "## 郭耀仁"
   ]
  },
  {
   "cell_type": "markdown",
   "metadata": {
    "slideshow": {
     "slide_type": "subslide"
    }
   },
   "source": [
    "## 在學習 Python 的同時（或之前）可以花時間暸解以下這幾個課題\n",
    "\n",
    "- 命令列\n",
    "- 文字編輯器\n",
    "- Markdown\n",
    "- Git 與 GitHub"
   ]
  },
  {
   "cell_type": "markdown",
   "metadata": {
    "slideshow": {
     "slide_type": "slide"
    }
   },
   "source": [
    "## 命令列"
   ]
  },
  {
   "cell_type": "markdown",
   "metadata": {
    "slideshow": {
     "slide_type": "subslide"
    }
   },
   "source": [
    "## 命令列工具\n",
    "\n",
    "- Mac: 搜尋應用程式 Terminal\n",
    "- Windows: [Git Bash](https://gitforwindows.org/) / Anaconda Prompt"
   ]
  },
  {
   "cell_type": "markdown",
   "metadata": {
    "slideshow": {
     "slide_type": "subslide"
    }
   },
   "source": [
    "## 基礎命令列指令\n",
    "\n",
    "- `clear` / `Ctrl + L`\n",
    "- `pwd`\n",
    "- `ls`\n",
    "- `cd`\n",
    "- `mkdir`\n",
    "- `touch`\n",
    "- `mv`\n",
    "- `cp`\n",
    "- `exit`"
   ]
  },
  {
   "cell_type": "markdown",
   "metadata": {
    "slideshow": {
     "slide_type": "slide"
    }
   },
   "source": [
    "## 文字編輯器"
   ]
  },
  {
   "cell_type": "markdown",
   "metadata": {
    "slideshow": {
     "slide_type": "subslide"
    }
   },
   "source": [
    "## 用來開啟純文字檔案的工具\n",
    "\n",
    "- `.csv`\n",
    "- `.json`\n",
    "- `.txt`\n",
    "- ...etc."
   ]
  },
  {
   "cell_type": "markdown",
   "metadata": {
    "slideshow": {
     "slide_type": "subslide"
    }
   },
   "source": [
    "## 用來撰寫程式碼的工具\n",
    "\n",
    "可以用來撰寫**任何**程式語言。"
   ]
  },
  {
   "cell_type": "markdown",
   "metadata": {
    "slideshow": {
     "slide_type": "subslide"
    }
   },
   "source": [
    "## VS Code 是目前的首選推薦\n",
    "\n",
    "- [VSCode](https://code.visualstudio.com/)\n",
    "- [Atom](https://atom.io/)\n",
    "- [Sublime Text](https://www.sublimetext.com/)\n",
    "- [Notepad ++](https://notepad-plus-plus.org/)"
   ]
  },
  {
   "cell_type": "markdown",
   "metadata": {
    "slideshow": {
     "slide_type": "slide"
    }
   },
   "source": [
    "## Markdown"
   ]
  },
  {
   "cell_type": "markdown",
   "metadata": {
    "slideshow": {
     "slide_type": "subslide"
    }
   },
   "source": [
    "## 工程師撰寫文件的首選\n",
    "\n",
    "<https://markdown.tw/>"
   ]
  },
  {
   "cell_type": "markdown",
   "metadata": {
    "slideshow": {
     "slide_type": "subslide"
    }
   },
   "source": [
    "## 應用場景\n",
    "\n",
    "- 撰寫 GitHub Repository 的 README.md\n",
    "- 撰寫 Jupyter Notebook 文字儲存格"
   ]
  },
  {
   "cell_type": "markdown",
   "metadata": {
    "slideshow": {
     "slide_type": "slide"
    }
   },
   "source": [
    "## Git 與 GitHub"
   ]
  },
  {
   "cell_type": "markdown",
   "metadata": {
    "slideshow": {
     "slide_type": "subslide"
    }
   },
   "source": [
    "## 用來做程式碼版本控管、團隊協作的工具"
   ]
  },
  {
   "cell_type": "markdown",
   "metadata": {
    "slideshow": {
     "slide_type": "subslide"
    }
   },
   "source": [
    "<http://try.github.io/>"
   ]
  },
  {
   "cell_type": "markdown",
   "metadata": {
    "slideshow": {
     "slide_type": "slide"
    }
   },
   "source": [
    "## 延伸閱讀\n",
    "\n",
    "- [Bash for beginners - linuxleech](https://www.youtube.com/watch?v=sqYUYHn-HKg&list=PLCAF7D691FFA25555)\n",
    "- [Basic writing and formatting syntax](https://help.github.com/en/articles/basic-writing-and-formatting-syntax)"
   ]
  }
 ],
 "metadata": {
  "celltoolbar": "Slideshow",
  "kernelspec": {
   "display_name": "Python 3",
   "language": "python",
   "name": "python3"
  },
  "language_info": {
   "codemirror_mode": {
    "name": "ipython",
    "version": 3
   },
   "file_extension": ".py",
   "mimetype": "text/x-python",
   "name": "python",
   "nbconvert_exporter": "python",
   "pygments_lexer": "ipython3",
   "version": "3.7.1"
  }
 },
 "nbformat": 4,
 "nbformat_minor": 2
}
