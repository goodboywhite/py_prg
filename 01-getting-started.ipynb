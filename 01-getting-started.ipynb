{
 "cells": [
  {
   "cell_type": "markdown",
   "metadata": {
    "slideshow": {
     "slide_type": "slide"
    }
   },
   "source": [
    "# 成為初級資料分析師 | Python 程式設計\n",
    "\n",
    "> 起步走\n",
    "\n",
    "## 郭耀仁"
   ]
  },
  {
   "cell_type": "markdown",
   "metadata": {
    "slideshow": {
     "slide_type": "subslide"
    }
   },
   "source": [
    "> Now is better than never.\n",
    ">\n",
    "> Tim Peters, Zen of Python"
   ]
  },
  {
   "cell_type": "markdown",
   "metadata": {
    "slideshow": {
     "slide_type": "subslide"
    }
   },
   "source": [
    "## 大綱\n",
    "\n",
    "- 關於 Python\n",
    "- 建立開發環境\n",
    "- 執行第一個 Python 程式"
   ]
  },
  {
   "cell_type": "markdown",
   "metadata": {
    "slideshow": {
     "slide_type": "slide"
    }
   },
   "source": [
    "## 關於 Python"
   ]
  },
  {
   "cell_type": "markdown",
   "metadata": {
    "slideshow": {
     "slide_type": "subslide"
    }
   },
   "source": [
    "## 廣泛用途程式語言\n",
    "\n",
    "- 由荷蘭電腦科學家 Guido van Rossum 於 1991 年創造\n",
    "- 目前由 Python 軟體基金會維護\n",
    "- 高階、直譯、與簡潔"
   ]
  },
  {
   "cell_type": "markdown",
   "metadata": {
    "slideshow": {
     "slide_type": "subslide"
    }
   },
   "source": [
    "## 在多個應用領域中倍受熱愛\n",
    "\n",
    "- 資料科學\n",
    "- 網站開發\n",
    "- 系統自動化\n",
    "- ...族繁不及備載"
   ]
  },
  {
   "cell_type": "markdown",
   "metadata": {
    "slideshow": {
     "slide_type": "subslide"
    }
   },
   "source": [
    "## 在 NumPy、SciPy、pandas、matplotlib、Scikit-Learn 與 TensorFlow 等套件的強力加持下 Python 成為資料科學團隊的首選"
   ]
  },
  {
   "cell_type": "markdown",
   "metadata": {
    "slideshow": {
     "slide_type": "subslide"
    }
   },
   "source": [
    "## 到底有多受歡迎\n",
    "\n",
    "- [IEEE](https://spectrum.ieee.org/at-work/innovation/the-2018-top-programming-languages)\n",
    "- [TIOBE Index](https://www.tiobe.com/tiobe-index/)\n",
    "- [The Economist](https://www.economist.com/graphic-detail/2018/07/26/python-is-becoming-the-worlds-most-popular-coding-language)"
   ]
  },
  {
   "cell_type": "markdown",
   "metadata": {
    "slideshow": {
     "slide_type": "slide"
    }
   },
   "source": [
    "## 建立開發環境"
   ]
  },
  {
   "cell_type": "markdown",
   "metadata": {
    "slideshow": {
     "slide_type": "subslide"
    }
   },
   "source": [
    "## 根據使用者狀態決定\n",
    "\n",
    "- Friendly Users\n",
    "    - 在瀏覽器使用 Google Colaboratory\n",
    "    - 在本機端使用 Anaconda\n",
    "- Powerful Users\n",
    "    - Miniconda\n",
    "- Geek\n",
    "    - Python Interpreter + Text Editor / IDE"
   ]
  },
  {
   "cell_type": "markdown",
   "metadata": {
    "slideshow": {
     "slide_type": "subslide"
    }
   },
   "source": [
    "## 這門課受眾是友善的使用者\n",
    "\n",
    "- 在瀏覽器使用 Google Colaboratory\n",
    "- 在本機端使用 Anaconda"
   ]
  },
  {
   "cell_type": "markdown",
   "metadata": {
    "slideshow": {
     "slide_type": "subslide"
    }
   },
   "source": [
    "## 在瀏覽器使用 Google Colaboratory\n",
    "\n",
    "1. 登入 Google 帳號，開啟雲端硬碟\n",
    "2. 點選「新增」\n",
    "3. 點選「連結更多應用程式」\n",
    "4. 搜尋「Colaboratory」\n",
    "5. 點選「連結」\n",
    "6. 新增 Google Colaboratory\n",
    "7. 完成"
   ]
  },
  {
   "cell_type": "markdown",
   "metadata": {
    "slideshow": {
     "slide_type": "subslide"
    }
   },
   "source": [
    "## 在本機端使用 Anaconda\n",
    "\n",
    "- 先開啟「命令提示字元」輸入 `python --version` 檢查電腦是否已經有安裝 Python\n",
    "- 開啟「應用程式」檢查電腦中有哪些 Python 版本"
   ]
  },
  {
   "cell_type": "markdown",
   "metadata": {
    "slideshow": {
     "slide_type": "subslide"
    }
   },
   "source": [
    "## 安裝 Anaconda\n",
    "\n",
    "- 前往 [Anaconda](https://www.anaconda.com/distribution/) 官方網站\n",
    "- 下載 Python 3.X 版本"
   ]
  },
  {
   "cell_type": "markdown",
   "metadata": {
    "slideshow": {
     "slide_type": "subslide"
    }
   },
   "source": [
    "## 安裝 Anaconda 的優點\n",
    "\n",
    "- 適合初學者的懶人包\n",
    "    - Python 直譯器\n",
    "    - Jupyter Notebook\n",
    "    - Spyder / RStudio\n",
    "    - 套件與環境管理工具 conda\n",
    "    - 預先安裝好的資料科學套件"
   ]
  },
  {
   "cell_type": "markdown",
   "metadata": {
    "slideshow": {
     "slide_type": "subslide"
    }
   },
   "source": [
    "## 安裝 Anaconda 的缺點\n",
    "\n",
    "- 安裝時間長\n",
    "- 硬碟空間要求大\n",
    "- 預先安裝好的許多套件可能從來不會被使用到"
   ]
  },
  {
   "cell_type": "markdown",
   "metadata": {
    "slideshow": {
     "slide_type": "subslide"
    }
   },
   "source": [
    "## 開始安裝 Anaconda\n",
    "\n",
    "1. 前往 [Anaconda](https://www.anaconda.com/distribution/) 下載頁面，依照作業系統點選對應的 Python 3.X 安裝檔\n",
    "2. 依照提示點選下一步\n",
    "3. 選擇安裝路徑\n",
    "4. 依照提示點選我同意\n",
    "5. **勾選將 Anaconda 加入路徑變數後點選安裝**\n",
    "6. 等待安裝完成\n",
    "7. 如果沒有習慣使用的文字編輯器，可以安裝 VS Code，否則點選略過"
   ]
  },
  {
   "cell_type": "markdown",
   "metadata": {
    "slideshow": {
     "slide_type": "subslide"
    }
   },
   "source": [
    "## 勾選將 Anaconda 加入路徑變數\n",
    "\n",
    "![Imgur](https://i.imgur.com/f9T9gkM.png)"
   ]
  },
  {
   "cell_type": "markdown",
   "metadata": {
    "slideshow": {
     "slide_type": "slide"
    }
   },
   "source": [
    "## 執行第一個 Python 程式"
   ]
  },
  {
   "cell_type": "markdown",
   "metadata": {
    "slideshow": {
     "slide_type": "subslide"
    }
   },
   "source": [
    "## 印出哈囉世界\n",
    "\n",
    "```python\n",
    "print(\"Hello World!\")\n",
    "```"
   ]
  },
  {
   "cell_type": "markdown",
   "metadata": {
    "slideshow": {
     "slide_type": "subslide"
    }
   },
   "source": [
    "## Google Colaboratory"
   ]
  },
  {
   "cell_type": "code",
   "execution_count": null,
   "metadata": {},
   "outputs": [],
   "source": [
    "print(\"Hello World!\")"
   ]
  },
  {
   "cell_type": "markdown",
   "metadata": {
    "slideshow": {
     "slide_type": "subslide"
    }
   },
   "source": [
    "## 本機端：Jupyter Notebook Way\n",
    "\n",
    "- 開啟「Jupyter Notebook」\n",
    "- 預設會在使用者家目錄（Home）開啟\n",
    "- 移動至桌面\n",
    "- 新增「Python 3」筆記本"
   ]
  },
  {
   "cell_type": "code",
   "execution_count": null,
   "metadata": {
    "slideshow": {
     "slide_type": "-"
    }
   },
   "outputs": [],
   "source": [
    "print(\"Hello World!\")"
   ]
  },
  {
   "cell_type": "markdown",
   "metadata": {
    "slideshow": {
     "slide_type": "subslide"
    }
   },
   "source": [
    "## 本機端：Conventional Way\n",
    "\n",
    "- 在桌面建立一個檔案叫做 `hello.py`\n",
    "- 在 `hello.py` 寫入 `print(\"Hello World!\")`\n",
    "- 在桌面開啟「命令提示字元」，輸入 `python hello.py`"
   ]
  },
  {
   "cell_type": "markdown",
   "metadata": {
    "slideshow": {
     "slide_type": "subslide"
    }
   },
   "source": [
    "## 隨堂練習"
   ]
  },
  {
   "cell_type": "markdown",
   "metadata": {
    "slideshow": {
     "slide_type": "subslide"
    }
   },
   "source": [
    "## 將電腦教室預先安裝好的 Python 都移除，自己做一遍建立開發環境"
   ]
  },
  {
   "cell_type": "markdown",
   "metadata": {
    "slideshow": {
     "slide_type": "subslide"
    }
   },
   "source": [
    "## The Zen of Python\n",
    "\n",
    "- 在桌面建立一個檔案叫做 `zen.py`\n",
    "- 在 `zen.py` 寫入 `import this`\n",
    "- 在桌面開啟「命令提示字元」，輸入 `python zen.py`"
   ]
  },
  {
   "cell_type": "code",
   "execution_count": null,
   "metadata": {
    "slideshow": {
     "slide_type": "subslide"
    }
   },
   "outputs": [],
   "source": [
    "import this"
   ]
  }
 ],
 "metadata": {
  "celltoolbar": "Slideshow",
  "kernelspec": {
   "display_name": "Python 3",
   "language": "python",
   "name": "python3"
  },
  "language_info": {
   "codemirror_mode": {
    "name": "ipython",
    "version": 3
   },
   "file_extension": ".py",
   "mimetype": "text/x-python",
   "name": "python",
   "nbconvert_exporter": "python",
   "pygments_lexer": "ipython3",
   "version": "3.7.1"
  }
 },
 "nbformat": 4,
 "nbformat_minor": 1
}
