{
 "cells": [
  {
   "cell_type": "markdown",
   "metadata": {
    "slideshow": {
     "slide_type": "slide"
    }
   },
   "source": [
    "#  類別\n",
    "\n",
    "## 郭耀仁"
   ]
  },
  {
   "cell_type": "markdown",
   "metadata": {
    "slideshow": {
     "slide_type": "slide"
    }
   },
   "source": [
    "## 物件導向\n",
    "\n",
    "- Object-oriented programming\n",
    "- 自訂類別（Class）模擬真實世界的情況\n",
    "- 根據這些類別建立物件（Object）\n",
    "- 而這些物件都具有類別的特性"
   ]
  },
  {
   "cell_type": "markdown",
   "metadata": {
    "slideshow": {
     "slide_type": "subslide"
    }
   },
   "source": [
    "## 物件導向的三大支柱\n",
    "\n",
    "- Encapsulation: 將變數與函數放在一個物件中\n",
    "- Abstraction: 為功能命名與解釋\n",
    "- Modularity: 將龐大的程式功能分裝成小元件"
   ]
  },
  {
   "cell_type": "markdown",
   "metadata": {
    "slideshow": {
     "slide_type": "subslide"
    }
   },
   "source": [
    "## 實踐物件導向的第一個主題：類別\n",
    "\n",
    "- 每個物件都是一個特定類別\n",
    "- 類別提供成員屬性（member attributes）提供靜態資訊、提供成員函數（member functions）提供動態行為"
   ]
  },
  {
   "cell_type": "markdown",
   "metadata": {
    "slideshow": {
     "slide_type": "subslide"
    }
   },
   "source": [
    "## 自訂類別中的元件別稱\n",
    "\n",
    "- 成員屬性（member attributes）：有時也稱呼為欄位（fields）、物件變數（instance variables）或資料（data members）\n",
    "- 成員函數：有時也稱呼為方法（methods）"
   ]
  },
  {
   "cell_type": "markdown",
   "metadata": {
    "slideshow": {
     "slide_type": "subslide"
    }
   },
   "source": [
    "## 新的保留字\n",
    "\n",
    "- `__init__()` 方法稱為建構子或者初始化方法\n",
    "- `self` 會在初始化方法被呼叫後成為物件\n",
    "- `__doc__` 屬性可以看類別說明"
   ]
  },
  {
   "cell_type": "code",
   "execution_count": 1,
   "metadata": {
    "slideshow": {
     "slide_type": "skip"
    }
   },
   "outputs": [],
   "source": [
    "class City:\n",
    "    \"\"\"\n",
    "    Information about a certain city.\n",
    "    \"\"\"\n",
    "    def __init__(self, name, country, location, current_weather):\n",
    "        self._name = name\n",
    "        self._country = country\n",
    "        self._location = location\n",
    "        self._current_weather = current_weather\n",
    "        self._scenic_spots = []\n",
    "    \n",
    "    def get_name(self):\n",
    "        return self._name\n",
    "    \n",
    "    def get_country(self):\n",
    "        return self._country\n",
    "    \n",
    "    def get_location(self):\n",
    "        return self._location\n",
    "    \n",
    "    def get_current_weather(self):\n",
    "        return \"我在 {} 天氣 {}\".format(self._name, self._current_weather)\n",
    "    \n",
    "    def get_scenic_spots(self):\n",
    "        return self._scenic_spots\n",
    "    \n",
    "    def add_scenic_spot(self, scenic_spot):\n",
    "        self._scenic_spots.append(scenic_spot)\n",
    "        return True"
   ]
  },
  {
   "cell_type": "code",
   "execution_count": 2,
   "metadata": {
    "slideshow": {
     "slide_type": "subslide"
    }
   },
   "outputs": [
    {
     "name": "stdout",
     "output_type": "stream",
     "text": [
      "\n",
      "    Information about a certain city.\n",
      "    \n",
      "我在 Taipei 天氣 小毛毛雨\n",
      "[]\n",
      "['台北 101']\n",
      "['台北 101', '國立故宮博物院']\n"
     ]
    }
   ],
   "source": [
    "tpe = City(\"Taipei\", \"Taiwan\", {\"lat\": 25.035077, \"lon\": 121.563412}, \"小毛毛雨\")\n",
    "print(tpe.__doc__)\n",
    "print(tpe.get_current_weather())\n",
    "print(tpe.get_scenic_spots())\n",
    "tpe.add_scenic_spot(\"台北 101\")\n",
    "print(tpe.get_scenic_spots())\n",
    "tpe.add_scenic_spot(\"國立故宮博物院\")\n",
    "print(tpe.get_scenic_spots())"
   ]
  },
  {
   "cell_type": "markdown",
   "metadata": {
    "slideshow": {
     "slide_type": "subslide"
    }
   },
   "source": [
    "## 隨堂練習\n",
    "\n",
    "利用 `City` 類別初始化一到兩個您想去的城市吧！"
   ]
  },
  {
   "cell_type": "markdown",
   "metadata": {
    "slideshow": {
     "slide_type": "slide"
    }
   },
   "source": [
    "## 自訂類別\n",
    "\n",
    "![](https://storage.googleapis.com/intro-2-py-ds/img/ch7/aoeII.png)"
   ]
  },
  {
   "cell_type": "markdown",
   "metadata": {
    "slideshow": {
     "slide_type": "subslide"
    }
   },
   "source": [
    "## 自訂類別\n",
    "\n",
    "- 建築物（Building）類別有基本屬性為建築物名稱："
   ]
  },
  {
   "cell_type": "code",
   "execution_count": 3,
   "metadata": {},
   "outputs": [
    {
     "name": "stdout",
     "output_type": "stream",
     "text": [
      "\n",
      "    建築物類別\n",
      "    \n",
      "城鎮中心\n",
      "軍營\n",
      "修道院\n"
     ]
    }
   ],
   "source": [
    "class Building():\n",
    "    '''\n",
    "    建築物類別\n",
    "    '''\n",
    "    def __init__(self, name):\n",
    "        self._name = name\n",
    "\n",
    "town_center = Building(\"城鎮中心\")\n",
    "barrack = Building(\"軍營\")\n",
    "monastery = Building(\"修道院\")\n",
    "\n",
    "print(town_center.__doc__)\n",
    "print(town_center._name)\n",
    "print(barrack._name)\n",
    "print(monastery._name)"
   ]
  },
  {
   "cell_type": "markdown",
   "metadata": {
    "slideshow": {
     "slide_type": "subslide"
    }
   },
   "source": [
    "## 自訂類別\n",
    "\n",
    "- 建築物（Building）類別有基本方法為生產："
   ]
  },
  {
   "cell_type": "code",
   "execution_count": 4,
   "metadata": {},
   "outputs": [
    {
     "name": "stdout",
     "output_type": "stream",
     "text": [
      "城鎮中心生產村民\n",
      "軍營生產長劍兵\n",
      "修道院生產僧侶\n"
     ]
    }
   ],
   "source": [
    "class Building():\n",
    "    '''\n",
    "    建築物類別\n",
    "    '''\n",
    "    def __init__(self, name, unit):\n",
    "        self._name = name\n",
    "        self._unit = unit\n",
    "    \n",
    "    def create(self):\n",
    "        return \"{}生產{}\".format(self._name, self._unit)\n",
    "\n",
    "town_center = Building(\"城鎮中心\", \"村民\")\n",
    "barrack = Building(\"軍營\", \"長劍兵\")\n",
    "monastery = Building(\"修道院\", \"僧侶\")\n",
    "\n",
    "print(town_center.create())\n",
    "print(barrack.create())\n",
    "print(monastery.create())"
   ]
  },
  {
   "cell_type": "markdown",
   "metadata": {
    "slideshow": {
     "slide_type": "subslide"
    }
   },
   "source": [
    "## 自訂類別\n",
    "\n",
    "- 類別具有繼承的特性："
   ]
  },
  {
   "cell_type": "code",
   "execution_count": 5,
   "metadata": {},
   "outputs": [
    {
     "name": "stdout",
     "output_type": "stream",
     "text": [
      "城堡\n",
      "城堡生產特殊兵種\n"
     ]
    }
   ],
   "source": [
    "class Building():\n",
    "    '''\n",
    "    建築物類別\n",
    "    '''\n",
    "    def __init__(self, name, unit):\n",
    "        self._name = name\n",
    "        self._unit = unit\n",
    "    \n",
    "    def create(self):\n",
    "        return \"{}生產{}\".format(self._name, self._unit)\n",
    "\n",
    "class Castle(Building):\n",
    "    '''\n",
    "    城堡類別\n",
    "    '''\n",
    "    pass\n",
    "\n",
    "castle = Castle(\"城堡\", \"特殊兵種\")\n",
    "print(castle._name)\n",
    "print(castle.create())"
   ]
  },
  {
   "cell_type": "markdown",
   "metadata": {
    "slideshow": {
     "slide_type": "subslide"
    }
   },
   "source": [
    "## 自訂類別\n",
    "\n",
    "- 類別繼承之後可以新增或改寫方法："
   ]
  },
  {
   "cell_type": "code",
   "execution_count": 6,
   "metadata": {},
   "outputs": [
    {
     "name": "stdout",
     "output_type": "stream",
     "text": [
      "城堡\n",
      "城堡生產特殊兵種與巨型投石車\n",
      "城堡使用弓箭攻擊\n"
     ]
    }
   ],
   "source": [
    "class Building():\n",
    "    '''\n",
    "    建築物類別\n",
    "    '''\n",
    "    def __init__(self, name, unit):\n",
    "        self._name = name\n",
    "        self._unit = unit\n",
    "    \n",
    "    def create(self):\n",
    "        return \"{}生產{}\".format(self._name, self._unit)\n",
    "\n",
    "class Castle(Building):\n",
    "    '''\n",
    "    城堡類別\n",
    "    '''\n",
    "    def create(self):\n",
    "        return \"{}生產{}與巨型投石車\".format(self._name, self._unit)\n",
    "    \n",
    "    def attack(self):\n",
    "        return \"{}使用弓箭攻擊\".format(self._name)\n",
    "\n",
    "castle = Castle(\"城堡\", \"特殊兵種\")\n",
    "print(castle._name)\n",
    "print(castle.create())\n",
    "print(castle.attack())"
   ]
  },
  {
   "cell_type": "markdown",
   "metadata": {
    "slideshow": {
     "slide_type": "subslide"
    }
   },
   "source": [
    "## 自訂類別\n",
    "\n",
    "- 使用 `super()` 繼承母類別的屬性"
   ]
  },
  {
   "cell_type": "code",
   "execution_count": 7,
   "metadata": {},
   "outputs": [
    {
     "name": "stdout",
     "output_type": "stream",
     "text": [
      "城堡生產特殊兵種與巨型投石車\n"
     ]
    }
   ],
   "source": [
    "class Building():\n",
    "    '''\n",
    "    建築物類別\n",
    "    '''\n",
    "    def __init__(self, name, unit):\n",
    "        self._name = name\n",
    "        self._unit = unit\n",
    "    \n",
    "    def create(self):\n",
    "        return \"{}生產{}\" %(self._name, self._unit)\n",
    "\n",
    "class Castle(Building):\n",
    "    '''\n",
    "    城堡類別\n",
    "    '''\n",
    "    def __init__(self, name, unit, siege_unit):\n",
    "        super().__init__(name, unit)\n",
    "        self._siege_unit = siege_unit\n",
    "    \n",
    "    def create(self):\n",
    "        return \"{}生產{}與{}\".format(self._name, self._unit, self._siege_unit)\n",
    "\n",
    "castle = Castle(\"城堡\", \"特殊兵種\", \"巨型投石車\")\n",
    "print(castle.create())"
   ]
  },
  {
   "cell_type": "markdown",
   "metadata": {
    "slideshow": {
     "slide_type": "slide"
    }
   },
   "source": [
    "## 類別、物件、屬性與方法的階層關係\n",
    "\n",
    "- 類別（Class）\n",
    "    - 物件（Object）\n",
    "        - 屬性（Attribute）\n",
    "        - 方法（Method）"
   ]
  },
  {
   "cell_type": "markdown",
   "metadata": {
    "slideshow": {
     "slide_type": "slide"
    }
   },
   "source": [
    "## 隨堂練習\n",
    "\n",
    "![](https://storage.googleapis.com/intro-2-py-ds/img/ch7/dbfighterz.jpg)"
   ]
  },
  {
   "cell_type": "markdown",
   "metadata": {
    "slideshow": {
     "slide_type": "slide"
    }
   },
   "source": [
    "## 隨堂練習\n",
    "\n",
    "- 定義一個類別 `DBFighter`\n",
    "    - 一個屬性：姓名\n",
    "    - 三個方法：拳、踢、氣功波"
   ]
  },
  {
   "cell_type": "code",
   "execution_count": 8,
   "metadata": {},
   "outputs": [],
   "source": [
    "class DBFighter():\n",
    "    '''\n",
    "    七龍珠格鬥遊戲\n",
    "    '''\n",
    "    def __init__(self, name):\n",
    "        self._name = name\n",
    "    \n",
    "    def punch(self):\n",
    "        return \"{}使用拳擊！\".format(self._name)\n",
    "    \n",
    "    def kick(self):\n",
    "        return \"{}使用踢擊！\".format(self._name)\n",
    "    \n",
    "    def shock_wave(self):\n",
    "        return \"{}使用氣功波！\".format(self._name)"
   ]
  },
  {
   "cell_type": "markdown",
   "metadata": {
    "slideshow": {
     "slide_type": "subslide"
    }
   },
   "source": [
    "## 隨堂練習\n",
    "\n",
    "- 定義一個類別 `Vegeta` 繼承 `DBFighter`，新增終極閃光方法（final_flash），利用 `Vegeta` 建立 `vegeta` 物件，印出姓名與使用終極閃光方法\n",
    "- 定義一個類別 `Goku` 繼承 `DBFighter`，增加原名（Kakarot）、新增龜派氣功方法（Kamehameha），利用 `Goku` 建立 `goku` 物件，印出原名與使用龜派氣功方法"
   ]
  }
 ],
 "metadata": {
  "celltoolbar": "Slideshow",
  "kernelspec": {
   "display_name": "Python 3",
   "language": "python",
   "name": "python3"
  },
  "language_info": {
   "codemirror_mode": {
    "name": "ipython",
    "version": 3
   },
   "file_extension": ".py",
   "mimetype": "text/x-python",
   "name": "python",
   "nbconvert_exporter": "python",
   "pygments_lexer": "ipython3",
   "version": "3.7.1"
  }
 },
 "nbformat": 4,
 "nbformat_minor": 1
}
