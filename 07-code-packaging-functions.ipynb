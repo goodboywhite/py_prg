{
 "cells": [
  {
   "cell_type": "markdown",
   "metadata": {
    "slideshow": {
     "slide_type": "slide"
    }
   },
   "source": [
    "# 成為初級資料分析師 | Python 程式設計\n",
    "\n",
    "> 程式封裝：自訂函數\n",
    "\n",
    "## 郭耀仁"
   ]
  },
  {
   "cell_type": "markdown",
   "metadata": {
    "slideshow": {
     "slide_type": "subslide"
    }
   },
   "source": [
    "> One way to organize our Python code and make it more readable and reusable is functions."
   ]
  },
  {
   "cell_type": "markdown",
   "metadata": {
    "slideshow": {
     "slide_type": "subslide"
    }
   },
   "source": [
    "## 大綱\n",
    "\n",
    "- 使用函數\n",
    "- 自訂函數\n",
    "- 預設參數\n",
    "- 多個輸出\n",
    "- 彈性參數\n",
    "- `lambda` 函數\n",
    "- `map()` 與 `filter()`\n",
    "- 錯誤與例外\n",
    "- 全域（Global）與區域（Local）"
   ]
  },
  {
   "cell_type": "markdown",
   "metadata": {
    "slideshow": {
     "slide_type": "slide"
    }
   },
   "source": [
    "## 使用函數"
   ]
  },
  {
   "cell_type": "markdown",
   "metadata": {
    "slideshow": {
     "slide_type": "subslide"
    }
   },
   "source": [
    "## 函數是什麼？\n",
    "\n",
    "- 函數由三個元件組合而成：\n",
    "    - 輸入（inputs）\n",
    "    - 參數（arguments, 常縮寫為 args）\n",
    "    - 輸出（outputs）\n",
    "\n",
    "![Imgur](https://i.imgur.com/5dsyy3P.png)"
   ]
  },
  {
   "cell_type": "markdown",
   "metadata": {
    "slideshow": {
     "slide_type": "subslide"
    }
   },
   "source": [
    "## 如何使用函數\n",
    "\n",
    "- 函數名稱\n",
    "- 小括號中放入 inputs 與 args"
   ]
  },
  {
   "cell_type": "code",
   "execution_count": null,
   "metadata": {},
   "outputs": [],
   "source": [
    "print('Luke', 'use the Force!', sep=', ')"
   ]
  },
  {
   "cell_type": "markdown",
   "metadata": {
    "slideshow": {
     "slide_type": "subslide"
    }
   },
   "source": [
    "## 三個元件分別為\n",
    "\n",
    "- `print` 是函數名稱\n",
    "- `'Luke'` 與 `'use the Force!'` 是輸入\n",
    "- `sep=', '` 是參數"
   ]
  },
  {
   "cell_type": "markdown",
   "metadata": {},
   "source": [
    "## 內建函數列表\n",
    "\n",
    "```\n",
    "abs()\tdelattr()\thash()\tmemoryview()\tset()\n",
    "all()\tdict()\thelp()\tmin()\tsetattr()\n",
    "any()\tdir()\thex()\tnext()\tslice()\n",
    "ascii()\tdivmod()\tid()\tobject()\tsorted()\n",
    "bin()\tenumerate()\tinput()\toct()\tstaticmethod()\n",
    "bool()\teval()\tint()\topen()\tstr()\n",
    "breakpoint()\texec()\tisinstance()\tord()\tsum()\n",
    "bytearray()\tfilter()\tissubclass()\tpow()\tsuper()\n",
    "bytes()\tfloat()\titer()\tprint()\ttuple()\n",
    "callable()\tformat()\tlen()\tproperty()\ttype()\n",
    "chr()\tfrozenset()\tlist()\trange()\tvars()\n",
    "classmethod()\tgetattr()\tlocals()\trepr()\tzip()\n",
    "compile()\tglobals()\tmap()\treversed()\t__import__()\n",
    "complex()\thasattr()\tmax()\tround()\t \n",
    "```\n",
    "\n",
    "Source: <https://docs.python.org/3/library/functions.html>"
   ]
  },
  {
   "cell_type": "markdown",
   "metadata": {
    "slideshow": {
     "slide_type": "subslide"
    }
   },
   "source": [
    "## 使用 `help()` 函數查詢功能及使用方式"
   ]
  },
  {
   "cell_type": "code",
   "execution_count": null,
   "metadata": {},
   "outputs": [],
   "source": [
    "help(abs)"
   ]
  },
  {
   "cell_type": "markdown",
   "metadata": {
    "slideshow": {
     "slide_type": "slide"
    }
   },
   "source": [
    "## 自訂函數"
   ]
  },
  {
   "cell_type": "markdown",
   "metadata": {
    "slideshow": {
     "slide_type": "subslide"
    }
   },
   "source": [
    "## 當我們開始自訂函數，程式設計的威力將逐漸開展"
   ]
  },
  {
   "cell_type": "markdown",
   "metadata": {
    "slideshow": {
     "slide_type": "subslide"
    }
   },
   "source": [
    "## 自訂函數 Code Block 結構\n",
    "\n",
    "- 使用 `def` 保留字\n",
    "- 函數名稱風格與物件相同，常使用動詞\n",
    "- 以長字串 `\"\"\"Docstrings\"\"\"` 撰寫函數功能說明\n",
    "- 使用 `return` 保留字\n",
    "\n",
    "```python\n",
    "def function_name(輸入, 參數, ...):\n",
    "    \"\"\"\n",
    "    Docstrings\n",
    "    \"\"\"\n",
    "    # 做些什麼事\n",
    "    return 輸出\n",
    "```"
   ]
  },
  {
   "cell_type": "markdown",
   "metadata": {
    "slideshow": {
     "slide_type": "subslide"
    }
   },
   "source": [
    "## 自訂 `abs()` 函數"
   ]
  },
  {
   "cell_type": "code",
   "execution_count": null,
   "metadata": {
    "slideshow": {
     "slide_type": "fragment"
    }
   },
   "outputs": [],
   "source": [
    "# Define\n",
    "def get_abs(x):\n",
    "    \"\"\"\n",
    "    取得 x 的絕對值。\n",
    "    \"\"\"\n",
    "    if x < 0:\n",
    "        return -x\n",
    "    else:\n",
    "        return x\n",
    "# Use\n",
    "help(get_abs)"
   ]
  },
  {
   "cell_type": "code",
   "execution_count": null,
   "metadata": {
    "slideshow": {
     "slide_type": "fragment"
    }
   },
   "outputs": [],
   "source": [
    "print(get_abs(-56))\n",
    "print(get_abs(56))"
   ]
  },
  {
   "cell_type": "markdown",
   "metadata": {
    "slideshow": {
     "slide_type": "subslide"
    }
   },
   "source": [
    "## 隨堂練習"
   ]
  },
  {
   "cell_type": "markdown",
   "metadata": {
    "slideshow": {
     "slide_type": "subslide"
    }
   },
   "source": [
    "## 寫作一個函數 `get_fahrenheit()` 將攝氏氣溫轉換為華氏氣溫\n",
    "\n",
    "$$Fahrenheit = Celsius \\times \\frac{9}{5} + 32$$"
   ]
  },
  {
   "cell_type": "code",
   "execution_count": null,
   "metadata": {
    "slideshow": {
     "slide_type": "subslide"
    }
   },
   "outputs": [],
   "source": [
    "# Define\n",
    "def get_fahrenheit(x):\n",
    "    \"\"\"\n",
    "    轉換攝氏氣溫為華氏氣溫\n",
    "    \"\"\"\n",
    "    return x*9/5 + 32\n",
    "# Use\n",
    "help(get_fahrenheit)\n",
    "print(get_fahrenheit(20))"
   ]
  },
  {
   "cell_type": "markdown",
   "metadata": {
    "slideshow": {
     "slide_type": "subslide"
    }
   },
   "source": [
    "## 寫作一個函數 `get_bmi()` 計算 BMI 身體質量指數\n",
    "\n",
    "$$BMI = \\frac{weight_{kg}}{height_{m}^2}$$"
   ]
  },
  {
   "cell_type": "code",
   "execution_count": null,
   "metadata": {
    "slideshow": {
     "slide_type": "subslide"
    }
   },
   "outputs": [],
   "source": [
    "# Define\n",
    "def get_bmi(height, weight):\n",
    "    \"\"\"\n",
    "    依據身高、體重計算 BMI 身體質量指數\n",
    "    身高：以公分（cm）為單位\n",
    "    體重：以公斤（kg）為單位\n",
    "    \"\"\"\n",
    "    bmi = weight / (height/100)**2\n",
    "    return bmi\n",
    "# Use\n",
    "help(get_bmi)\n",
    "print(get_bmi(172, 62))"
   ]
  },
  {
   "cell_type": "markdown",
   "metadata": {
    "slideshow": {
     "slide_type": "subslide"
    }
   },
   "source": [
    "## 寫作一個函數 `is_prime()` 判斷輸入是否為質數"
   ]
  },
  {
   "cell_type": "code",
   "execution_count": null,
   "metadata": {
    "slideshow": {
     "slide_type": "subslide"
    }
   },
   "outputs": [],
   "source": [
    "# Define\n",
    "def is_prime(x):\n",
    "    \"\"\"\n",
    "    判斷輸入的正整數 x 是否為質數\n",
    "    \"\"\"\n",
    "    divisor_cnt, i = 0, 1\n",
    "    while i <= x:\n",
    "        if x % i == 0:\n",
    "            divisor_cnt += 1\n",
    "        if divisor_cnt > 2:\n",
    "            break\n",
    "        i += 1\n",
    "    return divisor_cnt == 2\n",
    "# Use\n",
    "help(is_prime)\n",
    "print(is_prime(87))\n",
    "print(is_prime(89))"
   ]
  },
  {
   "cell_type": "markdown",
   "metadata": {
    "slideshow": {
     "slide_type": "subslide"
    }
   },
   "source": [
    "## 寫作一個函數 `get_circle_area()` 計算圓形面積\n",
    "\n",
    "$$\\text{Circle Area} = \\pi r^2$$"
   ]
  },
  {
   "cell_type": "code",
   "execution_count": null,
   "metadata": {
    "slideshow": {
     "slide_type": "subslide"
    }
   },
   "outputs": [],
   "source": [
    "# Define\n",
    "def get_circle_area(r):\n",
    "    \"\"\"\n",
    "    依據半徑計算圓形面積\n",
    "    \"\"\"\n",
    "    pi = 3.14156\n",
    "    return pi*r**2\n",
    "# Use\n",
    "help(get_circle_area)\n",
    "print(get_circle_area(3))"
   ]
  },
  {
   "cell_type": "markdown",
   "metadata": {
    "slideshow": {
     "slide_type": "slide"
    }
   },
   "source": [
    "## 預設參數"
   ]
  },
  {
   "cell_type": "markdown",
   "metadata": {
    "slideshow": {
     "slide_type": "subslide"
    }
   },
   "source": [
    "## 給函數一個最常使用的參數設定，但又賦予讓使用者更動的彈性"
   ]
  },
  {
   "cell_type": "markdown",
   "metadata": {
    "slideshow": {
     "slide_type": "subslide"
    }
   },
   "source": [
    "## 寫作一個函數 `get_circle_metrics()` 預設計算面積、但亦可以計算周長\n",
    "\n",
    "$$\n",
    "\\text{Circle Area} = \\pi r^2 \\\\\n",
    "\\text{Circle Perimeter} = 2 \\pi r\n",
    "$$"
   ]
  },
  {
   "cell_type": "code",
   "execution_count": null,
   "metadata": {
    "slideshow": {
     "slide_type": "subslide"
    }
   },
   "outputs": [],
   "source": [
    "# Define\n",
    "def get_circle_metrics(r, is_area=True):\n",
    "    \"\"\"\n",
    "    依據半徑計算圓形面積或周長\n",
    "    \"\"\"\n",
    "    pi = 3.14156\n",
    "    if is_area:\n",
    "        return pi*r**2\n",
    "    else:\n",
    "        return 2*pi*r\n",
    "# Use\n",
    "help(get_circle_metrics)\n",
    "print(get_circle_metrics(3))\n",
    "print(get_circle_metrics(3, False))"
   ]
  },
  {
   "cell_type": "markdown",
   "metadata": {
    "slideshow": {
     "slide_type": "slide"
    }
   },
   "source": [
    "## 多個輸出"
   ]
  },
  {
   "cell_type": "markdown",
   "metadata": {
    "slideshow": {
     "slide_type": "subslide"
    }
   },
   "source": [
    "## 回憶我們在資料結構介紹 `tuple` 的應用\n",
    "\n",
    "> （Preview）Python 函數有多個輸出會以 tuple 的資料結構回傳"
   ]
  },
  {
   "cell_type": "markdown",
   "metadata": {
    "slideshow": {
     "slide_type": "subslide"
    }
   },
   "source": [
    "## 寫作一個函數 `get_circle_metrics()` 計算面積以及周長"
   ]
  },
  {
   "cell_type": "code",
   "execution_count": null,
   "metadata": {},
   "outputs": [],
   "source": [
    "# Define\n",
    "def get_circle_metrics(r):\n",
    "    \"\"\"\n",
    "    依據半徑計算圓形面積以及周長\n",
    "    \"\"\"\n",
    "    pi = 3.14156\n",
    "    area = pi*r**2\n",
    "    perimeter = 2*pi*r\n",
    "    return area, perimeter\n",
    "# Use\n",
    "print(get_circle_metrics(3))\n",
    "print(type(get_circle_metrics(3)))\n",
    "circle_area, circle_perimeter = get_circle_metrics(3)\n",
    "print(circle_area)\n",
    "print(circle_perimeter)"
   ]
  },
  {
   "cell_type": "markdown",
   "metadata": {
    "slideshow": {
     "slide_type": "slide"
    }
   },
   "source": [
    "## 彈性參數"
   ]
  },
  {
   "cell_type": "markdown",
   "metadata": {
    "slideshow": {
     "slide_type": "subslide"
    }
   },
   "source": [
    "## 有時我們的函數不確定使用者會想輸入幾個參數"
   ]
  },
  {
   "cell_type": "markdown",
   "metadata": {
    "slideshow": {
     "slide_type": "subslide"
    }
   },
   "source": [
    "## `*args` 讓使用者使用函數時傳入多個 list-like 參數"
   ]
  },
  {
   "cell_type": "code",
   "execution_count": null,
   "metadata": {},
   "outputs": [],
   "source": [
    "def get_fahrenheits(*args):\n",
    "    fahrenheits = []\n",
    "    for c in args:\n",
    "        fahrenheits.append(c*9/5 + 32)\n",
    "    return fahrenheits\n",
    "\n",
    "print(get_fahrenheits(18, 20, 22))"
   ]
  },
  {
   "cell_type": "markdown",
   "metadata": {
    "slideshow": {
     "slide_type": "subslide"
    }
   },
   "source": [
    "## `*kwargs` 讓使用者使用函數時傳入多個 dict-like 參數"
   ]
  },
  {
   "cell_type": "code",
   "execution_count": null,
   "metadata": {},
   "outputs": [],
   "source": [
    "def get_city_fahrenheits(**kwargs):\n",
    "    city_f = {}\n",
    "    for k, v in kwargs.items():\n",
    "        v = v*9/5 + 32\n",
    "        city_f[k] = v\n",
    "    return city_f\n",
    "\n",
    "print(get_city_fahrenheits(Taipei=18))\n",
    "print(get_city_fahrenheits(Taipei=18, London=20))\n",
    "print(get_city_fahrenheits(Taipei=18, London=20, Japan=22))"
   ]
  },
  {
   "cell_type": "markdown",
   "metadata": {
    "slideshow": {
     "slide_type": "slide"
    }
   },
   "source": [
    "## `lambda` 函數"
   ]
  },
  {
   "cell_type": "markdown",
   "metadata": {
    "slideshow": {
     "slide_type": "subslide"
    }
   },
   "source": [
    "## 不使用 `def` 保留字與 `return` 自訂函數"
   ]
  },
  {
   "cell_type": "code",
   "execution_count": null,
   "metadata": {
    "slideshow": {
     "slide_type": "-"
    }
   },
   "outputs": [],
   "source": [
    "# Define\n",
    "get_fahrenheit = lambda x: x*9/5 + 32\n",
    "# Use\n",
    "print(get_fahrenheit(20))"
   ]
  },
  {
   "cell_type": "markdown",
   "metadata": {
    "slideshow": {
     "slide_type": "slide"
    }
   },
   "source": [
    "## `map()` 與 `filter()`"
   ]
  },
  {
   "cell_type": "markdown",
   "metadata": {
    "slideshow": {
     "slide_type": "subslide"
    }
   },
   "source": [
    "## 常與 `lambda` 函數一起使用的 functional functions\n",
    "\n",
    "- `map()`\n",
    "- `filter()`"
   ]
  },
  {
   "cell_type": "code",
   "execution_count": null,
   "metadata": {
    "slideshow": {
     "slide_type": "subslide"
    }
   },
   "outputs": [],
   "source": [
    "help(map)\n",
    "help(filter)"
   ]
  },
  {
   "cell_type": "markdown",
   "metadata": {
    "slideshow": {
     "slide_type": "subslide"
    }
   },
   "source": [
    "## `map()`"
   ]
  },
  {
   "cell_type": "code",
   "execution_count": null,
   "metadata": {},
   "outputs": [],
   "source": [
    "temp_c = [18, 20, 22]\n",
    "temp_f = map(lambda x: x*9/5 + 32, temp_c)\n",
    "list(temp_f)"
   ]
  },
  {
   "cell_type": "markdown",
   "metadata": {
    "slideshow": {
     "slide_type": "subslide"
    }
   },
   "source": [
    "## `filter()`"
   ]
  },
  {
   "cell_type": "code",
   "execution_count": null,
   "metadata": {},
   "outputs": [],
   "source": [
    "odds = filter(lambda x: x%2, range(10))\n",
    "list(odds)"
   ]
  },
  {
   "cell_type": "markdown",
   "metadata": {
    "slideshow": {
     "slide_type": "slide"
    }
   },
   "source": [
    "## 錯誤與例外"
   ]
  },
  {
   "cell_type": "markdown",
   "metadata": {
    "slideshow": {
     "slide_type": "subslide"
    }
   },
   "source": [
    "## 三種基本的錯誤\n",
    "\n",
    "- Syntax errors：語法錯誤\n",
    "- Runtime errors：直譯錯誤\n",
    "- Semantic errors：邏輯錯誤"
   ]
  },
  {
   "cell_type": "code",
   "execution_count": null,
   "metadata": {
    "slideshow": {
     "slide_type": "subslide"
    }
   },
   "outputs": [],
   "source": [
    "# Syntax erros\n",
    "print(\"Hello World!\""
   ]
  },
  {
   "cell_type": "markdown",
   "metadata": {
    "slideshow": {
     "slide_type": "subslide"
    }
   },
   "source": [
    "## 常見的 Runtime errors\n",
    "\n",
    "- `NameError`\n",
    "- `TypeError`\n",
    "- `IndexError`\n",
    "- `ZeroDivisionError`\n",
    "- ...etc."
   ]
  },
  {
   "cell_type": "code",
   "execution_count": null,
   "metadata": {
    "slideshow": {
     "slide_type": "subslide"
    }
   },
   "outputs": [],
   "source": [
    "# Runtime error: NameError\n",
    "msg = \"Hello World\"\n",
    "print(Msg)"
   ]
  },
  {
   "cell_type": "code",
   "execution_count": null,
   "metadata": {
    "slideshow": {
     "slide_type": "subslide"
    }
   },
   "outputs": [],
   "source": [
    "# Runtime error: TypeError\n",
    "\"55\" + 66"
   ]
  },
  {
   "cell_type": "code",
   "execution_count": null,
   "metadata": {
    "slideshow": {
     "slide_type": "subslide"
    }
   },
   "outputs": [],
   "source": [
    "# Runtime error: IndexError\n",
    "avengers_movies = [\"The Avengers\", \"Avengers: Age of Ultron\", \"Avengers: Infinity War\", \"Avengers: Endgame\"]\n",
    "avengers_movies[4]"
   ]
  },
  {
   "cell_type": "code",
   "execution_count": null,
   "metadata": {
    "slideshow": {
     "slide_type": "subslide"
    }
   },
   "outputs": [],
   "source": [
    "def divide(x, y):\n",
    "    \"\"\"\n",
    "    將輸入的兩個數字相除\n",
    "    \"\"\"\n",
    "    return x / y\n",
    "print(divide(55, 66))\n",
    "print(divide(5566, 0))"
   ]
  },
  {
   "cell_type": "markdown",
   "metadata": {
    "slideshow": {
     "slide_type": "subslide"
    }
   },
   "source": [
    "## 使用 `try...except...` 處理錯誤與例外"
   ]
  },
  {
   "cell_type": "code",
   "execution_count": null,
   "metadata": {},
   "outputs": [],
   "source": [
    "def safe_divide(x, y):\n",
    "    \"\"\"\n",
    "    將輸入的兩個數字相除\n",
    "    \"\"\"\n",
    "    try:\n",
    "        return x / y\n",
    "    except:\n",
    "        return \"Something went wrong...\"\n",
    "print(safe_divide(55, 66))\n",
    "print(safe_divide(5566, 0))"
   ]
  },
  {
   "cell_type": "markdown",
   "metadata": {
    "slideshow": {
     "slide_type": "subslide"
    }
   },
   "source": [
    "## 在 `except` 後面連接錯誤的種類捕捉特定錯誤"
   ]
  },
  {
   "cell_type": "code",
   "execution_count": null,
   "metadata": {},
   "outputs": [],
   "source": [
    "def safe_divide(x, y):\n",
    "    \"\"\"\n",
    "    將輸入的兩個數字相除\n",
    "    \"\"\"\n",
    "    try:\n",
    "        return x / y\n",
    "    except ZeroDivisionError:\n",
    "        return \"Demoninator should not be zero!\"\n",
    "    except TypeError:\n",
    "        return \"Numerator and demoninator should not be strings!\"\n",
    "\n",
    "print(safe_divide(5566, 0))\n",
    "print(safe_divide(55, '66'))"
   ]
  },
  {
   "cell_type": "markdown",
   "metadata": {
    "slideshow": {
     "slide_type": "subslide"
    }
   },
   "source": [
    "## 以 `raise` 告知使用者函數不支援的功能"
   ]
  },
  {
   "cell_type": "code",
   "execution_count": null,
   "metadata": {},
   "outputs": [],
   "source": [
    "# Define\n",
    "def is_prime(x):\n",
    "    \"\"\"\n",
    "    判斷輸入的正整數 x 是否為質數\n",
    "    \"\"\"\n",
    "    if x < 0:\n",
    "        raise ValueError(\"x must be positive!\")\n",
    "    elif isinstance(x, float):\n",
    "        raise ValueError(\"x must be an integer!\")\n",
    "    divisor_cnt, i = 0, 1\n",
    "    while i <= x:\n",
    "        if x % i == 0:\n",
    "            divisor_cnt += 1\n",
    "        if divisor_cnt > 2:\n",
    "            break\n",
    "        i += 1\n",
    "    return divisor_cnt == 2\n",
    "# Use\n",
    "print(is_prime(89.0))"
   ]
  },
  {
   "cell_type": "code",
   "execution_count": null,
   "metadata": {
    "slideshow": {
     "slide_type": "subslide"
    }
   },
   "outputs": [],
   "source": [
    "# Use\n",
    "print(is_prime(-5566))"
   ]
  },
  {
   "cell_type": "markdown",
   "metadata": {
    "slideshow": {
     "slide_type": "slide"
    }
   },
   "source": [
    "## 全域（Global）與區域（Local）"
   ]
  },
  {
   "cell_type": "markdown",
   "metadata": {
    "slideshow": {
     "slide_type": "subslide"
    }
   },
   "source": [
    "## 什麼是全域與區域？\n",
    "\n",
    "- 在函數的 Code Block 以外所建立的物件屬於全域\n",
    "- 在函數的 Code Block 中建立的物件屬於區域"
   ]
  },
  {
   "cell_type": "markdown",
   "metadata": {
    "slideshow": {
     "slide_type": "subslide"
    }
   },
   "source": [
    "## 全域物件與區域物件的差別？\n",
    "\n",
    "- 區域物件**僅可**在區域中使用\n",
    "- 全域物件可以在全域以及區域中使用"
   ]
  },
  {
   "cell_type": "code",
   "execution_count": null,
   "metadata": {},
   "outputs": [],
   "source": [
    "# 區域物件僅可在區域中使用\n",
    "def get_squared(x):\n",
    "    squared_x = x**2 # Local\n",
    "    return squared_x\n",
    "\n",
    "print(get_squared(2))\n",
    "print(squared_x) # Local object cannot be accessed in global"
   ]
  },
  {
   "cell_type": "code",
   "execution_count": null,
   "metadata": {},
   "outputs": [],
   "source": [
    "# 全域物件可以在全域以及區域中使用\n",
    "squared_x = 4\n",
    "print(squared_x) # Global object can be accessed in global, of course\n",
    "def get_squared():\n",
    "    return squared_x\n",
    "\n",
    "print(get_squared()) # Global object can be accessed in local"
   ]
  },
  {
   "cell_type": "markdown",
   "metadata": {
    "slideshow": {
     "slide_type": "slide"
    }
   },
   "source": [
    "## 作業"
   ]
  },
  {
   "cell_type": "markdown",
   "metadata": {
    "slideshow": {
     "slide_type": "subslide"
    }
   },
   "source": [
    "## 寫一個函數 count_primes(x, y) 計算介於 x 到 y 之間的質數個數為何（包含 x 與 y 假如它們是奇數）"
   ]
  },
  {
   "cell_type": "code",
   "execution_count": 1,
   "metadata": {
    "slideshow": {
     "slide_type": "skip"
    }
   },
   "outputs": [],
   "source": [
    "def is_prime(x):\n",
    "    \"\"\"\n",
    "    判斷輸入的正整數 x 是否為質數\n",
    "    \"\"\"\n",
    "    divisor_cnt, i = 0, 1\n",
    "    while i <= x:\n",
    "        if x % i == 0:\n",
    "            divisor_cnt += 1\n",
    "        if divisor_cnt > 2:\n",
    "            break\n",
    "        i += 1\n",
    "    return divisor_cnt == 2\n",
    "\n",
    "def count_primes(x, y):\n",
    "    prime_counter = 0\n",
    "    for i in range(x, y+1):\n",
    "        if is_prime(i):\n",
    "            prime_counter += 1\n",
    "    return prime_counter"
   ]
  },
  {
   "cell_type": "markdown",
   "metadata": {
    "slideshow": {
     "slide_type": "subslide"
    }
   },
   "source": [
    "## 執行範例"
   ]
  },
  {
   "cell_type": "code",
   "execution_count": 2,
   "metadata": {},
   "outputs": [
    {
     "name": "stdout",
     "output_type": "stream",
     "text": [
      "4\n",
      "5\n",
      "5\n"
     ]
    }
   ],
   "source": [
    "print(count_primes(3, 11))\n",
    "print(count_primes(3, 13))\n",
    "print(count_primes(3, 15))"
   ]
  },
  {
   "cell_type": "markdown",
   "metadata": {
    "slideshow": {
     "slide_type": "subslide"
    }
   },
   "source": [
    "## 寫一個函數 `get_std(*args)` 回傳 `*args` 所組成之數列的樣本標準差\n",
    "\n",
    "$$s = \\sqrt{\\frac{1}{n-1}\\sum_{i=1}^{n}(x_i - \\bar{x})^2}$$\n",
    "\n",
    "<https://en.wikipedia.org/wiki/Standard_deviation>"
   ]
  },
  {
   "cell_type": "code",
   "execution_count": 3,
   "metadata": {
    "slideshow": {
     "slide_type": "skip"
    }
   },
   "outputs": [],
   "source": [
    "def get_std(*args):\n",
    "    n = len(args)\n",
    "    x_bar = sum(args)/n\n",
    "    sse = 0\n",
    "    for i in args:\n",
    "        err = i - x_bar\n",
    "        se = err**2\n",
    "        sse += se\n",
    "    try:\n",
    "        std = (sse/(n-1))**(0.5)\n",
    "        return std\n",
    "    except ZeroDivisionError:\n",
    "        return \"Please input at least 2 numbers.\""
   ]
  },
  {
   "cell_type": "markdown",
   "metadata": {
    "slideshow": {
     "slide_type": "subslide"
    }
   },
   "source": [
    "## 執行範例"
   ]
  },
  {
   "cell_type": "code",
   "execution_count": 4,
   "metadata": {},
   "outputs": [
    {
     "name": "stdout",
     "output_type": "stream",
     "text": [
      "3.1622776601683795\n",
      "1.5811388300841898\n",
      "Please input at least 2 numbers.\n"
     ]
    }
   ],
   "source": [
    "print(get_std(1, 3, 5, 7, 9))\n",
    "print(get_std(3, 4, 5, 6, 7))\n",
    "print(get_std(3))"
   ]
  },
  {
   "cell_type": "markdown",
   "metadata": {
    "slideshow": {
     "slide_type": "subslide"
    }
   },
   "source": [
    "## 寫一個函數 `fibonacci(N, f0=0, f1=1)` 回傳長度為 `N`、前兩個數字分別為 `f0` 與 `f1` 的費氏數列\n",
    "\n",
    "$$\n",
    "F_0 = 0, F_1 = 1 \\\\\n",
    "F_n = F_{n-1} + F_{n-2} \\text{ , For } n > 1\n",
    "$$\n",
    "\n",
    "<https://en.wikipedia.org/wiki/Fibonacci_number>"
   ]
  },
  {
   "cell_type": "code",
   "execution_count": 5,
   "metadata": {
    "slideshow": {
     "slide_type": "skip"
    }
   },
   "outputs": [],
   "source": [
    "def fibonacci(N, f0=0, f1=1):\n",
    "    fib = [f0, f1]\n",
    "    while len(fib) < N:\n",
    "        fn = fib[-1]+fib[-2]\n",
    "        fib.append(fn)\n",
    "    return fib"
   ]
  },
  {
   "cell_type": "markdown",
   "metadata": {
    "slideshow": {
     "slide_type": "subslide"
    }
   },
   "source": [
    "## 執行範例"
   ]
  },
  {
   "cell_type": "code",
   "execution_count": 6,
   "metadata": {},
   "outputs": [
    {
     "name": "stdout",
     "output_type": "stream",
     "text": [
      "[0, 1, 1, 2, 3, 5, 8, 13, 21, 34, 55, 89, 144, 233, 377, 610, 987, 1597, 2584, 4181]\n",
      "[1, 2, 3, 5, 8, 13, 21, 34, 55, 89, 144, 233, 377, 610, 987, 1597, 2584, 4181, 6765, 10946]\n"
     ]
    }
   ],
   "source": [
    "print(fibonacci(20))\n",
    "print(fibonacci(20, 1, 2))"
   ]
  }
 ],
 "metadata": {
  "celltoolbar": "Slideshow",
  "kernelspec": {
   "display_name": "Python 3",
   "language": "python",
   "name": "python3"
  },
  "language_info": {
   "codemirror_mode": {
    "name": "ipython",
    "version": 3
   },
   "file_extension": ".py",
   "mimetype": "text/x-python",
   "name": "python",
   "nbconvert_exporter": "python",
   "pygments_lexer": "ipython3",
   "version": "3.7.1"
  }
 },
 "nbformat": 4,
 "nbformat_minor": 2
}
