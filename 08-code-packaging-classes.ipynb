{
 "cells": [
  {
   "cell_type": "markdown",
   "metadata": {
    "slideshow": {
     "slide_type": "slide"
    }
   },
   "source": [
    "## 成為初級資料分析師 | Python 程式設計\n",
    "\n",
    "> 程式封裝：自訂類別\n",
    "\n",
    "## 郭耀仁"
   ]
  },
  {
   "cell_type": "markdown",
   "metadata": {
    "slideshow": {
     "slide_type": "subslide"
    }
   },
   "source": [
    "> The main \"actors\" in the object-oriented paradigm are called objects."
   ]
  },
  {
   "cell_type": "markdown",
   "metadata": {
    "slideshow": {
     "slide_type": "subslide"
    }
   },
   "source": [
    "## 大綱\n",
    "\n",
    "- 目標與準則\n",
    "- 定義類別\n",
    "- 繼承"
   ]
  },
  {
   "cell_type": "markdown",
   "metadata": {
    "slideshow": {
     "slide_type": "slide"
    }
   },
   "source": [
    "## 目標與準則"
   ]
  },
  {
   "cell_type": "markdown",
   "metadata": {
    "slideshow": {
     "slide_type": "subslide"
    }
   },
   "source": [
    "## 目標：從程式設計到軟體開發\n",
    "\n",
    "- 強韌 Robustness\n",
    "- 調適 Adaptability\n",
    "- 重複使用 Reusability"
   ]
  },
  {
   "cell_type": "markdown",
   "metadata": {
    "slideshow": {
     "slide_type": "subslide"
    }
   },
   "source": [
    "## 何謂強韌 Robustness\n",
    "\n",
    "軟體考慮到所有可能的輸入情況，並對應到正確的輸出情況"
   ]
  },
  {
   "cell_type": "markdown",
   "metadata": {
    "slideshow": {
     "slide_type": "subslide"
    }
   },
   "source": [
    "## 何謂調適 Adaptability\n",
    "\n",
    "軟體可以與時俱進"
   ]
  },
  {
   "cell_type": "markdown",
   "metadata": {
    "slideshow": {
     "slide_type": "subslide"
    }
   },
   "source": [
    "## 何謂重複使用 Reusability\n",
    "\n",
    "功能模組化，可以在未來的開發直接使用"
   ]
  },
  {
   "cell_type": "markdown",
   "metadata": {
    "slideshow": {
     "slide_type": "subslide"
    }
   },
   "source": [
    "## 物件導向（Object-oriented programming）是讓程式碼達成這三個目標的途徑"
   ]
  },
  {
   "cell_type": "markdown",
   "metadata": {
    "slideshow": {
     "slide_type": "subslide"
    }
   },
   "source": [
    "## 物件導向的三大準則\n",
    "\n",
    "- Modularity 模組化\n",
    "- Abstraction 摘要化\n",
    "- Encapsulation 封裝化"
   ]
  },
  {
   "cell_type": "markdown",
   "metadata": {
    "slideshow": {
     "slide_type": "subslide"
    }
   },
   "source": [
    "## 物件導向的三大支柱\n",
    "\n",
    "- Encapsulation: 將變數與函數放在一個物件中\n",
    "- Abstraction: 為功能命名與解釋\n",
    "- Modularity: 將龐大的程式功能分裝成小元件"
   ]
  },
  {
   "cell_type": "markdown",
   "metadata": {
    "slideshow": {
     "slide_type": "subslide"
    }
   },
   "source": [
    "## 何謂 Modularity 模組化\n",
    "\n",
    "拆解物件為不同作用的小單位"
   ]
  },
  {
   "cell_type": "markdown",
   "metadata": {
    "slideshow": {
     "slide_type": "subslide"
    }
   },
   "source": [
    "## 何謂 Abstraction 摘要化\n",
    "\n",
    "描述出物件重要的資訊與行為"
   ]
  },
  {
   "cell_type": "markdown",
   "metadata": {
    "slideshow": {
     "slide_type": "subslide"
    }
   },
   "source": [
    "## 何謂 Encapsulation 封裝化\n",
    "\n",
    "物件將資訊與行為置放在內層，僅以對外介面開放給其他功能使用"
   ]
  },
  {
   "cell_type": "markdown",
   "metadata": {
    "slideshow": {
     "slide_type": "slide"
    }
   },
   "source": [
    "## 定義類別"
   ]
  },
  {
   "cell_type": "markdown",
   "metadata": {
    "slideshow": {
     "slide_type": "subslide"
    }
   },
   "source": [
    "## 類別是實踐物件導向的第一個主題\n",
    "\n",
    "- 自訂類別（Class）模擬真實世界的情況\n",
    "- 每個物件都是一個特定類別\n",
    "- 類別提供成員屬性（member attributes）提供靜態資訊、提供成員函數（member functions）提供動態行為"
   ]
  },
  {
   "cell_type": "markdown",
   "metadata": {
    "slideshow": {
     "slide_type": "subslide"
    }
   },
   "source": [
    "## 自訂類別中的元件別稱\n",
    "\n",
    "- 成員屬性（member attributes）：有時也稱呼為欄位（fields）、物件變數（instance variables）或資料（data members）\n",
    "- 成員函數：有時也稱呼為方法（methods）"
   ]
  },
  {
   "cell_type": "markdown",
   "metadata": {
    "slideshow": {
     "slide_type": "subslide"
    }
   },
   "source": [
    "## 自訂類別 Code Block 結構\n",
    "\n",
    "- 使用 `class` 保留字\n",
    "- 類別名稱為**單數**名詞、首字大寫（注意！）\n",
    "- 以長字串 \"\"\"Docstrings\"\"\" 撰寫類別說明\n",
    "- `__init__(self)` 初始化方法加上 `self` identifier\n",
    "\n",
    "```python\n",
    "class Class_name:\n",
    "    \"\"\"\n",
    "    Docstrings\n",
    "    \"\"\"\n",
    "    def __init__(self, attr):\n",
    "        self._attr = attr\n",
    "```"
   ]
  },
  {
   "cell_type": "markdown",
   "metadata": {
    "slideshow": {
     "slide_type": "subslide"
    }
   },
   "source": [
    "## 初始化方法與 `self` identifier\n",
    "\n",
    "- 初始化方法 `__init__(self)` 在宣告以自訂類別創建物件的當下被觸發\n",
    "- `self` identifier 形同未來將被創建出來的物件"
   ]
  },
  {
   "cell_type": "code",
   "execution_count": null,
   "metadata": {
    "slideshow": {
     "slide_type": "subslide"
    }
   },
   "outputs": [],
   "source": [
    "class City:\n",
    "    \"\"\"\n",
    "    Information about a certain city.\n",
    "    \"\"\"\n",
    "    def __init__(self, name, country, location, current_weather):\n",
    "        self._name = name\n",
    "        self._country = country\n",
    "        self._location = location\n",
    "        self._current_weather = current_weather\n",
    "        self._scenic_spots = []\n",
    "    \n",
    "    def get_name(self):\n",
    "        return self._name\n",
    "    \n",
    "    def get_country(self):\n",
    "        return self._country\n",
    "    \n",
    "    def get_location(self):\n",
    "        return self._location\n",
    "    \n",
    "    def get_current_weather(self):\n",
    "        return \"我在 {} 天氣 {}\".format(self._name, self._current_weather)\n",
    "    \n",
    "    def get_scenic_spots(self):\n",
    "        return self._scenic_spots\n",
    "    \n",
    "    def add_scenic_spot(self, scenic_spot):\n",
    "        self._scenic_spots.append(scenic_spot)\n",
    "        return True"
   ]
  },
  {
   "cell_type": "markdown",
   "metadata": {
    "slideshow": {
     "slide_type": "subslide"
    }
   },
   "source": [
    "## 以自訂的 `City` 類別創建物件 `tpe`\n",
    "\n",
    "- 建構子，the Constructor\n",
    "- `tpe` 就扮演著我們自訂的 `self` identifier"
   ]
  },
  {
   "cell_type": "code",
   "execution_count": null,
   "metadata": {
    "slideshow": {
     "slide_type": "-"
    }
   },
   "outputs": [],
   "source": [
    "# constructor\n",
    "tpe = City(\"Taipei\", \"Taiwan\", {\"lat\": 25.035077, \"lon\": 121.563412}, \"小毛毛雨\")"
   ]
  },
  {
   "cell_type": "markdown",
   "metadata": {
    "slideshow": {
     "slide_type": "subslide"
    }
   },
   "source": [
    "## 具有屬性跟方法\n",
    "\n",
    "- 具有 `._name` 屬性為 \"Taipei\"\n",
    "- 具有 `._country` 屬性為 \"Taiwan\"\n",
    "- 具有 `._location` 屬性為 \"{\"lat\": 25.035077, \"lon\": 121.563412}\"\n",
    "- 具有 `._current_weather` 屬性為 \"小毛毛雨\"\n",
    "- 具有 `.get_name()` 方法\n",
    "- 具有 `.get_country()` 方法\n",
    "- 具有 `.get_location()` 方法\n",
    "- 具有 `.get_current_weather()` 方法\n",
    "- 具有 `.get_scenic_spots()` 方法\n",
    "- 具有 `.add_scenic_spot()` 方法"
   ]
  },
  {
   "cell_type": "code",
   "execution_count": null,
   "metadata": {
    "slideshow": {
     "slide_type": "subslide"
    }
   },
   "outputs": [],
   "source": [
    "print(tpe.__doc__)\n",
    "print(tpe.get_current_weather())\n",
    "print(tpe.get_scenic_spots())\n",
    "tpe.add_scenic_spot(\"台北 101\")\n",
    "print(tpe.get_scenic_spots())\n",
    "tpe.add_scenic_spot(\"國立故宮博物院\")\n",
    "print(tpe.get_scenic_spots())"
   ]
  },
  {
   "cell_type": "markdown",
   "metadata": {
    "slideshow": {
     "slide_type": "subslide"
    }
   },
   "source": [
    "## 類別、物件、屬性與方法的階層關係\n",
    "\n",
    "- 類別（Class）\n",
    "    - 物件（Object）\n",
    "        - 屬性（Attribute）\n",
    "        - 方法（Method）"
   ]
  },
  {
   "cell_type": "markdown",
   "metadata": {
    "slideshow": {
     "slide_type": "subslide"
    }
   },
   "source": [
    "## 隨堂練習"
   ]
  },
  {
   "cell_type": "markdown",
   "metadata": {
    "slideshow": {
     "slide_type": "subslide"
    }
   },
   "source": [
    "## 利用 `City` 類別創建一到兩個想去的城市"
   ]
  },
  {
   "cell_type": "code",
   "execution_count": null,
   "metadata": {},
   "outputs": [],
   "source": [
    "nyc = City(\"New York\", \"United States\", {\"lat\": 40.714679, \"lon\": -74.005360}, \"Mostly Cloudy\")\n",
    "ldn = City(\"London\", \"United Kingdom\", {\"lat\": 51.508658, \"lon\": -0.127714}, \"Mostly Cloudy\")"
   ]
  },
  {
   "cell_type": "markdown",
   "metadata": {
    "slideshow": {
     "slide_type": "subslide"
    }
   },
   "source": [
    "## 定義一個類別 Movie\n",
    "\n",
    "- 三個屬性：電影名稱、IMDB 評等、上映日期\n",
    "- 四個方法：回傳電影名稱、回傳評等、回傳上映日期、判斷是否值得去電影院觀賞（IMDB 評等大於 8）"
   ]
  },
  {
   "cell_type": "code",
   "execution_count": null,
   "metadata": {
    "slideshow": {
     "slide_type": "subslide"
    }
   },
   "outputs": [],
   "source": [
    "class Movie:\n",
    "    \"\"\"\n",
    "    Information about a certain movie.\n",
    "    \"\"\"\n",
    "    def __init__(self, title, imdb_rating, release_date):\n",
    "        self._title = title\n",
    "        self._imdb_rating = imdb_rating\n",
    "        self._release_date = release_date\n",
    "    def get_title(self):\n",
    "        return self._title\n",
    "    def get_imdb_rating(self):\n",
    "        return self._imdb_rating\n",
    "    def get_release_date(self):\n",
    "        return self._release_date\n",
    "    def going_to_movie_theater(self):\n",
    "        if self._imdb_rating >= 8:\n",
    "            return \"{} 的評等為 {}，值得去電影院看！\".format(self._title, self._imdb_rating)\n",
    "        else:\n",
    "            return \"{} 的評等為 {}，應該不用去電影院看...\".format(self._title, self._imdb_rating)"
   ]
  },
  {
   "cell_type": "code",
   "execution_count": null,
   "metadata": {
    "slideshow": {
     "slide_type": "subslide"
    }
   },
   "outputs": [],
   "source": [
    "avengers_endgame = Movie(\"Avengers: Endgame\", 8.8, \"2019-04-24\")\n",
    "print(avengers_endgame.get_title())\n",
    "print(avengers_endgame.get_imdb_rating())\n",
    "print(avengers_endgame.get_release_date())\n",
    "print(avengers_endgame.going_to_movie_theater())"
   ]
  },
  {
   "cell_type": "markdown",
   "metadata": {
    "slideshow": {
     "slide_type": "slide"
    }
   },
   "source": [
    "## 繼承"
   ]
  },
  {
   "cell_type": "markdown",
   "metadata": {
    "slideshow": {
     "slide_type": "subslide"
    }
   },
   "source": [
    "## 繼承是軟體工程在實踐「階層」上的自然方式\n",
    "\n",
    "- 國家（Country）\n",
    "    - 城市（City）\n",
    "        - 行政區（Borough）"
   ]
  },
  {
   "cell_type": "markdown",
   "metadata": {
    "slideshow": {
     "slide_type": "subslide"
    }
   },
   "source": [
    "## 母集合與子集合\n",
    "\n",
    "- 城市是行政區的母集合（Superset）、行政區是城市的子集合（Subset）\n",
    "- 國家是城市的母集合（Superset）、城市為國家的子集合（Subset）"
   ]
  },
  {
   "cell_type": "markdown",
   "metadata": {
    "slideshow": {
     "slide_type": "subslide"
    }
   },
   "source": [
    "## 如何讓子類別繼承母類別\n",
    "\n",
    "- 在子類別之後以小括號註記要繼承的母類別名稱\n",
    "\n",
    "```python\n",
    "class Child_class(Parent_class):\n",
    "    # ...\n",
    "```"
   ]
  },
  {
   "cell_type": "code",
   "execution_count": null,
   "metadata": {
    "slideshow": {
     "slide_type": "subslide"
    }
   },
   "outputs": [],
   "source": [
    "class Borough(City):\n",
    "    pass\n",
    "\n",
    "manhattan = Borough(\"Manhattan\", \"United States\", {\"lat\": 40.714679, \"lon\": -74.005360}, \"Mostly Cloudy\")\n",
    "print(manhattan.get_name())\n",
    "manhattan.add_scenic_spot(\"Central Park\")\n",
    "print(manhattan.get_scenic_spots())"
   ]
  },
  {
   "cell_type": "markdown",
   "metadata": {
    "slideshow": {
     "slide_type": "subslide"
    }
   },
   "source": [
    "## 子類別繼承母類別後可以新增屬性\n",
    "\n",
    "- 以 `super()` 繼承母類別的 Constructor\n",
    "\n",
    "```python\n",
    "class Child_class(Parent_class):\n",
    "    def __init__(self, ...)\n",
    "        super.__init__()\n",
    "```"
   ]
  },
  {
   "cell_type": "code",
   "execution_count": null,
   "metadata": {
    "slideshow": {
     "slide_type": "subslide"
    }
   },
   "outputs": [],
   "source": [
    "class Borough(City):\n",
    "    def __init__(self, name, city, country, location, current_weather):\n",
    "        super().__init__(name, country, location, current_weather)\n",
    "        self._city = city\n",
    "        \n",
    "manhattan = Borough(\"Manhattan\", \"New York\", \"United States\", {\"lat\": 40.714679, \"lon\": -74.005360}, \"Mostly Cloudy\")\n",
    "print(manhattan._name)\n",
    "print(manhattan._city)"
   ]
  },
  {
   "cell_type": "markdown",
   "metadata": {
    "slideshow": {
     "slide_type": "subslide"
    }
   },
   "source": [
    "## 子類別繼承母類別後可以新增方法與改寫方法"
   ]
  },
  {
   "cell_type": "code",
   "execution_count": null,
   "metadata": {},
   "outputs": [],
   "source": [
    "class Borough(City):\n",
    "    def __init__(self, name, city, country, location, current_weather):\n",
    "        super().__init__(name, country, location, current_weather)\n",
    "        self._city = city\n",
    "    # 新增 get_city()\n",
    "    def get_city(self):\n",
    "        return self._city\n",
    "    # 改寫 get_current_weather()\n",
    "    def get_current_weather(self):\n",
    "        return \"我在 {}, {}，天氣 {}。\".format(self._name, self._city, self._current_weather)\n",
    "\n",
    "manhattan = Borough(\"Manhattan\", \"New York\", \"United States\", {\"lat\": 40.714679, \"lon\": -74.005360}, \"Mostly Cloudy\")\n",
    "print(manhattan.get_city())\n",
    "print(manhattan.get_current_weather())"
   ]
  },
  {
   "cell_type": "markdown",
   "metadata": {
    "slideshow": {
     "slide_type": "slide"
    }
   },
   "source": [
    "## 作業"
   ]
  },
  {
   "cell_type": "markdown",
   "metadata": {
    "slideshow": {
     "slide_type": "subslide"
    }
   },
   "source": [
    "![](https://storage.googleapis.com/intro-2-py-ds/img/ch7/dbfighterz.jpg)"
   ]
  },
  {
   "cell_type": "markdown",
   "metadata": {
    "slideshow": {
     "slide_type": "subslide"
    }
   },
   "source": [
    "## 定義一個類別 `DBFighter`\n",
    "\n",
    "- 一個屬性：姓名\n",
    "- 三個方法：拳、踢、氣功波"
   ]
  },
  {
   "cell_type": "code",
   "execution_count": 1,
   "metadata": {
    "slideshow": {
     "slide_type": "skip"
    }
   },
   "outputs": [],
   "source": [
    "class DBFighter:\n",
    "    \"\"\"\n",
    "    七龍珠格鬥遊戲\n",
    "    \"\"\"\n",
    "    def __init__(self, name):\n",
    "        self._name = name\n",
    "    \n",
    "    def punch(self):\n",
    "        return \"{}使用拳擊！\".format(self._name)\n",
    "    \n",
    "    def kick(self):\n",
    "        return \"{}使用踢擊！\".format(self._name)\n",
    "    \n",
    "    def shock_wave(self):\n",
    "        return \"{}使用氣功波！\".format(self._name)"
   ]
  },
  {
   "cell_type": "markdown",
   "metadata": {
    "slideshow": {
     "slide_type": "subslide"
    }
   },
   "source": [
    "## 執行範例"
   ]
  },
  {
   "cell_type": "code",
   "execution_count": 2,
   "metadata": {},
   "outputs": [
    {
     "name": "stdout",
     "output_type": "stream",
     "text": [
      "孫悟空使用拳擊！\n",
      "孫悟空使用踢擊！\n",
      "孫悟空使用氣功波！\n"
     ]
    }
   ],
   "source": [
    "goku = DBFighter(\"孫悟空\")\n",
    "print(goku.punch())\n",
    "print(goku.kick())\n",
    "print(goku.shock_wave())"
   ]
  },
  {
   "cell_type": "markdown",
   "metadata": {
    "slideshow": {
     "slide_type": "subslide"
    }
   },
   "source": [
    "## 定義一個類別 `Goku` \n",
    "\n",
    "- 繼承 `DBFighter`\n",
    "- 增加原名屬性、新增龜派氣功方法（Kamehameha）"
   ]
  },
  {
   "cell_type": "code",
   "execution_count": 3,
   "metadata": {
    "slideshow": {
     "slide_type": "skip"
    }
   },
   "outputs": [],
   "source": [
    "class Goku(DBFighter):\n",
    "    def __init__(self, name, original_name):\n",
    "        super().__init__(name)\n",
    "        self._original_name = original_name\n",
    "    def Kamehameha(self):\n",
    "        return \"{} a.k.a. {}使用龜派氣功！\".format(self._original_name, self._name)"
   ]
  },
  {
   "cell_type": "markdown",
   "metadata": {
    "slideshow": {
     "slide_type": "subslide"
    }
   },
   "source": [
    "## 執行範例"
   ]
  },
  {
   "cell_type": "code",
   "execution_count": 4,
   "metadata": {},
   "outputs": [
    {
     "name": "stdout",
     "output_type": "stream",
     "text": [
      "卡卡洛特 a.k.a. 孫悟空使用龜派氣功！\n"
     ]
    }
   ],
   "source": [
    "goku = Goku(\"孫悟空\", \"卡卡洛特\")\n",
    "print(goku.Kamehameha())"
   ]
  }
 ],
 "metadata": {
  "celltoolbar": "Slideshow",
  "kernelspec": {
   "display_name": "Python 3",
   "language": "python",
   "name": "python3"
  },
  "language_info": {
   "codemirror_mode": {
    "name": "ipython",
    "version": 3
   },
   "file_extension": ".py",
   "mimetype": "text/x-python",
   "name": "python",
   "nbconvert_exporter": "python",
   "pygments_lexer": "ipython3",
   "version": "3.7.1"
  }
 },
 "nbformat": 4,
 "nbformat_minor": 1
}
