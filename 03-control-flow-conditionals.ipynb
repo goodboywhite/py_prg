{
 "cells": [
  {
   "cell_type": "markdown",
   "metadata": {
    "slideshow": {
     "slide_type": "slide"
    }
   },
   "source": [
    "# 成為初級資料分析師 | Python 程式設計\n",
    "\n",
    "> 流程控制：條件判斷\n",
    "\n",
    "## 郭耀仁"
   ]
  },
  {
   "cell_type": "markdown",
   "metadata": {
    "slideshow": {
     "slide_type": "subslide"
    }
   },
   "source": [
    "> Write a program that prints the numbers from 1 to 100. But for multiples of three print “Fizz” instead of the number and for the multiples of five print “Buzz”. For numbers which are multiples of both three and five print “FizzBuzz”.\n",
    ">\n",
    "> Fizz-Buzz Test"
   ]
  },
  {
   "cell_type": "markdown",
   "metadata": {
    "slideshow": {
     "slide_type": "subslide"
    }
   },
   "source": [
    "## 大綱\n",
    "\n",
    "- 布林的應用場景\n",
    "- `if` 判斷\n",
    "- `else` 判斷\n",
    "- `elif` 判斷"
   ]
  },
  {
   "cell_type": "markdown",
   "metadata": {
    "slideshow": {
     "slide_type": "slide"
    }
   },
   "source": [
    "## 布林的應用場景"
   ]
  },
  {
   "cell_type": "markdown",
   "metadata": {
    "slideshow": {
     "slide_type": "subslide"
    }
   },
   "source": [
    "## 布林之後會出現在\n",
    "\n",
    "- **條件判斷**\n",
    "- `while` 迴圈\n",
    "- 資料篩選"
   ]
  },
  {
   "cell_type": "markdown",
   "metadata": {
    "slideshow": {
     "slide_type": "slide"
    }
   },
   "source": [
    "## `if` 判斷"
   ]
  },
  {
   "cell_type": "markdown",
   "metadata": {
    "slideshow": {
     "slide_type": "subslide"
    }
   },
   "source": [
    "## `if` 判斷的 Code Block\n",
    "\n",
    "注意 `:` 與縮排。\n",
    "\n",
    "```python\n",
    "if 布林:\n",
    "    # 布林被評估為 True 時候執行縮排的程式碼\n",
    "```"
   ]
  },
  {
   "cell_type": "markdown",
   "metadata": {
    "slideshow": {
     "slide_type": "subslide"
    }
   },
   "source": [
    "## 電影評分超過 7 分就推薦去看"
   ]
  },
  {
   "cell_type": "code",
   "execution_count": null,
   "metadata": {},
   "outputs": [],
   "source": [
    "# 輸入一部超過 7 分的電影\n",
    "movie_title = input(\"請輸入電影名稱：\")\n",
    "movie_rating = input(\"請輸入電影評分：\")\n",
    "movie_rating = float(movie_rating)\n",
    "\n",
    "if movie_rating >= 7:\n",
    "    print(\"{}的評分為 {} 分值得去看！\".format(movie_title, movie_rating))"
   ]
  },
  {
   "cell_type": "code",
   "execution_count": null,
   "metadata": {
    "slideshow": {
     "slide_type": "subslide"
    }
   },
   "outputs": [],
   "source": [
    "# 輸入一部未滿 7 分的電影\n",
    "movie_title = input(\"請輸入電影名稱：\")\n",
    "movie_rating = input(\"請輸入電影評分：\")\n",
    "movie_rating = float(movie_rating)\n",
    "\n",
    "if movie_rating >= 7:\n",
    "    print(\"{}的評分為 {} 分值得去看！\".format(movie_title, movie_rating))"
   ]
  },
  {
   "cell_type": "markdown",
   "metadata": {
    "slideshow": {
     "slide_type": "slide"
    }
   },
   "source": [
    "## `else` 判斷"
   ]
  },
  {
   "cell_type": "markdown",
   "metadata": {
    "slideshow": {
     "slide_type": "subslide"
    }
   },
   "source": [
    "## `else` 判斷的 Code Block\n",
    "\n",
    "注意 `:` 與縮排。\n",
    "\n",
    "```python\n",
    "if 布林:\n",
    "    # 布林被評估為 True 時候執行縮排的程式碼\n",
    "else:\n",
    "    # 布林被評估為 False 時候執行縮排的程式碼\n",
    "```"
   ]
  },
  {
   "cell_type": "code",
   "execution_count": null,
   "metadata": {
    "slideshow": {
     "slide_type": "subslide"
    }
   },
   "outputs": [],
   "source": [
    "# 輸入一部超過 7 分的電影\n",
    "movie_title = input(\"請輸入電影名稱：\")\n",
    "movie_rating = input(\"請輸入電影評分：\")\n",
    "movie_rating = float(movie_rating)\n",
    "\n",
    "if movie_rating >= 7:\n",
    "    print(\"{}的評分為 {} 分值得去看！\".format(movie_title, movie_rating))\n",
    "else:\n",
    "    print(\"{}的評分為 {} 分看了會後悔！\".format(movie_title, movie_rating))"
   ]
  },
  {
   "cell_type": "code",
   "execution_count": null,
   "metadata": {
    "slideshow": {
     "slide_type": "subslide"
    }
   },
   "outputs": [],
   "source": [
    "# 輸入一部未滿 7 分的電影\n",
    "movie_title = input(\"請輸入電影名稱：\")\n",
    "movie_rating = input(\"請輸入電影評分：\")\n",
    "movie_rating = float(movie_rating)\n",
    "\n",
    "if movie_rating >= 7:\n",
    "    print(\"{}的評分為 {} 分值得去看！\".format(movie_title, movie_rating))\n",
    "else:\n",
    "    print(\"{}的評分為 {} 分看了會後悔！\".format(movie_title, movie_rating))"
   ]
  },
  {
   "cell_type": "markdown",
   "metadata": {
    "slideshow": {
     "slide_type": "slide"
    }
   },
   "source": [
    "## `elif` 判斷"
   ]
  },
  {
   "cell_type": "markdown",
   "metadata": {
    "slideshow": {
     "slide_type": "subslide"
    }
   },
   "source": [
    "## `elif` 判斷的 Code Block\n",
    "\n",
    "注意 `:` 與縮排。\n",
    "\n",
    "```python\n",
    "if 布林一:\n",
    "    # 布林一被評估為 True 時候執行縮排的程式碼\n",
    "elif 布林二:\n",
    "    # 布林二被評估為 True 時候執行縮排的程式碼\n",
    "else:\n",
    "    # 布林一與布林二都被評估為 False 時候執行縮排的程式碼\n",
    "```"
   ]
  },
  {
   "cell_type": "code",
   "execution_count": null,
   "metadata": {
    "slideshow": {
     "slide_type": "subslide"
    }
   },
   "outputs": [],
   "source": [
    "# 輸入一部超過 7 分的電影\n",
    "movie_title = input(\"請輸入電影名稱：\")\n",
    "movie_rating = input(\"請輸入電影評分：\")\n",
    "movie_rating = float(movie_rating)\n",
    "\n",
    "if movie_rating >= 8:\n",
    "    print(\"{}的評分為 {} 分要去電影院看！\".format(movie_title, movie_rating))\n",
    "elif movie_rating >= 7 and movie_rating < 8:\n",
    "    print(\"{}的評分為 {} 分值得一看！\".format(movie_title, movie_rating))\n",
    "else:\n",
    "    print(\"{}的評分為 {} 分看了會後悔！\".format(movie_title, movie_rating))"
   ]
  },
  {
   "cell_type": "code",
   "execution_count": null,
   "metadata": {
    "slideshow": {
     "slide_type": "subslide"
    }
   },
   "outputs": [],
   "source": [
    "# 輸入一部介於 7~8 分的電影\n",
    "movie_title = input(\"請輸入電影名稱：\")\n",
    "movie_rating = input(\"請輸入電影評分：\")\n",
    "movie_rating = float(movie_rating)\n",
    "\n",
    "if movie_rating >= 8:\n",
    "    print(\"{}的評分為 {} 分要去電影院看！\".format(movie_title, movie_rating))\n",
    "elif movie_rating >= 7 and movie_rating < 8:\n",
    "    print(\"{}的評分為 {} 分值得一看！\".format(movie_title, movie_rating))\n",
    "else:\n",
    "    print(\"{}的評分為 {} 分看了會後悔！\".format(movie_title, movie_rating))"
   ]
  },
  {
   "cell_type": "code",
   "execution_count": null,
   "metadata": {
    "slideshow": {
     "slide_type": "subslide"
    }
   },
   "outputs": [],
   "source": [
    "# 輸入一部未滿 7 分的電影\n",
    "movie_title = input(\"請輸入電影名稱：\")\n",
    "movie_rating = input(\"請輸入電影評分：\")\n",
    "movie_rating = float(movie_rating)\n",
    "\n",
    "if movie_rating >= 8:\n",
    "    print(\"{}的評分為 {} 分要去電影院看！\".format(movie_title, movie_rating))\n",
    "elif movie_rating >= 7 and movie_rating < 8:\n",
    "    print(\"{}的評分為 {} 分值得一看！\".format(movie_title, movie_rating))\n",
    "else:\n",
    "    print(\"{}的評分為 {} 分看了會後悔！\".format(movie_title, movie_rating))"
   ]
  },
  {
   "cell_type": "markdown",
   "metadata": {
    "slideshow": {
     "slide_type": "subslide"
    }
   },
   "source": [
    "## 複習布林運算符號（Boolean Operators）\n",
    "\n",
    "- `and` 交集：封閉區間\n",
    "- `or` 聯集：開放區間"
   ]
  },
  {
   "cell_type": "code",
   "execution_count": null,
   "metadata": {
    "slideshow": {
     "slide_type": "subslide"
    }
   },
   "outputs": [],
   "source": [
    "# 交集\n",
    "bmi = input(\"請輸入一個 BMI 數值：\")\n",
    "bmi = float(bmi)\n",
    "\n",
    "if bmi <= 30 and bmi >= 18.5:\n",
    "    print(\"BMI 屬於正常的範圍\")"
   ]
  },
  {
   "cell_type": "code",
   "execution_count": null,
   "metadata": {
    "slideshow": {
     "slide_type": "subslide"
    }
   },
   "outputs": [],
   "source": [
    "# 聯集\n",
    "bmi = input(\"請輸入一個 BMI 數值：\")\n",
    "bmi = float(bmi)\n",
    "\n",
    "if bmi < 18.5 or bmi > 30:\n",
    "    print(\"BMI 屬於需要注意的範圍\")"
   ]
  },
  {
   "cell_type": "markdown",
   "metadata": {
    "slideshow": {
     "slide_type": "subslide"
    }
   },
   "source": [
    "## MECE 法則\n",
    "\n",
    "- Mutually Exclusive, Collectively Exhaustive\n",
    "- 互斥而周延"
   ]
  },
  {
   "cell_type": "markdown",
   "metadata": {
    "slideshow": {
     "slide_type": "subslide"
    }
   },
   "source": [
    "## 隨堂練習"
   ]
  },
  {
   "cell_type": "markdown",
   "metadata": {
    "slideshow": {
     "slide_type": "subslide"
    }
   },
   "source": [
    "## 判斷奇數偶數\n",
    "\n",
    "```\n",
    "## 請輸入一個正整數：5566\n",
    "## 5566 是偶數\n",
    "## 請輸入一個正整數：87\n",
    "## 87 是奇數\n",
    "```"
   ]
  },
  {
   "cell_type": "code",
   "execution_count": null,
   "metadata": {
    "slideshow": {
     "slide_type": "subslide"
    }
   },
   "outputs": [],
   "source": [
    "user_int = input(\"請輸入一個正整數：\")\n",
    "user_int = int(user_int)\n",
    "if user_int % 2 == 0:\n",
    "    print(\"{} 是偶數\".format(user_int))\n",
    "else:\n",
    "    print(\"{} 是奇數\".format(user_int))"
   ]
  },
  {
   "cell_type": "markdown",
   "metadata": {
    "slideshow": {
     "slide_type": "subslide"
    }
   },
   "source": [
    "## 判斷 BMI 的類別標籤\n",
    "\n",
    "參考 <https://en.wikipedia.org/wiki/Body_mass_index#/media/File:BMI_chart.svg>\n",
    "\n",
    "```\n",
    "## 請輸入身高（公分）：200\n",
    "## 請輸入體重（公斤）：80\n",
    "## 身高 200.0 公分、體重 80.0 公斤，是 Underweight\n",
    "## 請輸入身高（公分）：170\n",
    "## 請輸入體重（公斤）：100\n",
    "## 身高 170.0 公分、體重 100.0 公斤，是 Obese\n",
    "```"
   ]
  },
  {
   "cell_type": "code",
   "execution_count": null,
   "metadata": {
    "slideshow": {
     "slide_type": "subslide"
    }
   },
   "outputs": [],
   "source": [
    "input_height = float(input(\"請輸入身高（公分）：\"))\n",
    "input_weight = float(input(\"請輸入體重（公斤）：\"))\n",
    "bmi = input_weight / (input_height*0.01)**2\n",
    "if bmi < 18.5:\n",
    "    bmi_index = \"Underweight\"\n",
    "elif bmi > 30:\n",
    "    bmi_index = \"Obese\"\n",
    "elif bmi >= 18.5 and bmi < 25:\n",
    "    bmi_index = \"Normal weight\"\n",
    "else:\n",
    "    bmi_index = \"Overweight\"\n",
    "print(\"身高 {} 公分、體重 {} 公斤，是 {}\".format(input_height, input_weight, bmi_index))"
   ]
  },
  {
   "cell_type": "markdown",
   "metadata": {
    "slideshow": {
     "slide_type": "slide"
    }
   },
   "source": [
    "## 作業"
   ]
  },
  {
   "cell_type": "markdown",
   "metadata": {
    "slideshow": {
     "slide_type": "subslide"
    }
   },
   "source": [
    "## Fizz-Buzz\n",
    "\n",
    "- 以 `input()` 函數請使用者輸入一個正整數\n",
    "- 如果是 3 的倍數印出 \"Fizz\"\n",
    "- 如果是 5 的倍數印出 \"Buzz\"\n",
    "- 如果是 15 的倍數印出 \"Fizz Buzz\"\n",
    "- 其他情況印出該正整數即可"
   ]
  },
  {
   "cell_type": "markdown",
   "metadata": {
    "slideshow": {
     "slide_type": "subslide"
    }
   },
   "source": [
    "## 執行範例\n",
    "\n",
    "```\n",
    "## 請輸入一個正整數：6\n",
    "## Fizz\n",
    "## 請輸入一個正整數：10\n",
    "## Buzz\n",
    "## 請輸入一個正整數：15\n",
    "## Fizz Buzz\n",
    "## 請輸入一個正整數：16\n",
    "## 16\n",
    "```"
   ]
  }
 ],
 "metadata": {
  "celltoolbar": "Slideshow",
  "kernelspec": {
   "display_name": "Python 3",
   "language": "python",
   "name": "python3"
  },
  "language_info": {
   "codemirror_mode": {
    "name": "ipython",
    "version": 3
   },
   "file_extension": ".py",
   "mimetype": "text/x-python",
   "name": "python",
   "nbconvert_exporter": "python",
   "pygments_lexer": "ipython3",
   "version": "3.7.1"
  }
 },
 "nbformat": 4,
 "nbformat_minor": 1
}
