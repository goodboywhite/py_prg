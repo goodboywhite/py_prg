{
 "cells": [
  {
   "cell_type": "markdown",
   "metadata": {
    "slideshow": {
     "slide_type": "slide"
    }
   },
   "source": [
    "# 成為初級資料分析師 | Python 程式設計\n",
    "\n",
    "> 資料型態\n",
    "\n",
    "## 郭耀仁"
   ]
  },
  {
   "cell_type": "markdown",
   "metadata": {
    "slideshow": {
     "slide_type": "subslide"
    }
   },
   "source": [
    "> There are only two hard things in Computer Science: cache invalidation and naming things.\n",
    ">\n",
    "> Phil Karlton"
   ]
  },
  {
   "cell_type": "markdown",
   "metadata": {
    "slideshow": {
     "slide_type": "subslide"
    }
   },
   "source": [
    "## 大綱\n",
    "\n",
    "- 物件、命名與註解\n",
    "- 內建函數\n",
    "- 整數與浮點數\n",
    "- 文字\n",
    "- 布林\n",
    "- 資料型態轉換"
   ]
  },
  {
   "cell_type": "markdown",
   "metadata": {
    "slideshow": {
     "slide_type": "slide"
    }
   },
   "source": [
    "## 物件、命名與註解"
   ]
  },
  {
   "cell_type": "markdown",
   "metadata": {
    "slideshow": {
     "slide_type": "subslide"
    }
   },
   "source": [
    "## 寫程式究竟是怎麼一回事\n",
    "\n",
    "- 程式設計師腦中想做些什麼事情\n",
    "- 用程式語言具象化（realize）\n",
    "- 以直譯器（或編譯器）翻譯成電腦語言\n",
    "- 由電腦具象化"
   ]
  },
  {
   "cell_type": "markdown",
   "metadata": {
    "slideshow": {
     "slide_type": "subslide"
    }
   },
   "source": [
    "## 像是記錄電影的資訊\n",
    "\n",
    "![Imgur](https://i.imgur.com/3sGTb1H.png)"
   ]
  },
  {
   "cell_type": "markdown",
   "metadata": {
    "slideshow": {
     "slide_type": "subslide"
    }
   },
   "source": [
    "## 以 `=` 將資訊儲存至一個物件名稱中"
   ]
  },
  {
   "cell_type": "code",
   "execution_count": null,
   "metadata": {
    "slideshow": {
     "slide_type": "-"
    }
   },
   "outputs": [],
   "source": [
    "rating = 8.8\n",
    "print(rating)"
   ]
  },
  {
   "cell_type": "markdown",
   "metadata": {
    "slideshow": {
     "slide_type": "subslide"
    }
   },
   "source": [
    "## 以 `#` 對程式功能做註解"
   ]
  },
  {
   "cell_type": "code",
   "execution_count": null,
   "metadata": {},
   "outputs": [],
   "source": [
    "# 儲存資訊 <--- 註解\n",
    "rating = 8.8\n",
    "# 印出資訊 <--- 註解\n",
    "print(rating)"
   ]
  },
  {
   "cell_type": "markdown",
   "metadata": {
    "slideshow": {
     "slide_type": "subslide"
    }
   },
   "source": [
    "## 註解不只是寫給別人看，也是寫給未來的自己看"
   ]
  },
  {
   "cell_type": "markdown",
   "metadata": {
    "slideshow": {
     "slide_type": "subslide"
    }
   },
   "source": [
    "## 物件的命名風格\n",
    "\n",
    "- 小寫\n",
    "- 中間不能有框格\n",
    "- 多音節用 `_` 分隔\n",
    "- 開頭不能使用數字\n",
    "- 不能使用保留字\n",
    "- 避免使用內建函數"
   ]
  },
  {
   "cell_type": "code",
   "execution_count": null,
   "metadata": {},
   "outputs": [],
   "source": [
    "56_cannot_die = \"56 不能亡\""
   ]
  },
  {
   "cell_type": "markdown",
   "metadata": {
    "slideshow": {
     "slide_type": "subslide"
    }
   },
   "source": [
    "## 保留字列表\n",
    "\n",
    "```\n",
    "False      await      else       import     pass\n",
    "None       break      except     in         raise\n",
    "True       class      finally    is         return\n",
    "and        continue   for        lambda     try\n",
    "as         def        from       nonlocal   while\n",
    "assert     del        global     not        with\n",
    "async      elif       if         or         yield\n",
    "```\n",
    "\n",
    "Source: <https://docs.python.org/3/reference/lexical_analysis.html#keywords>"
   ]
  },
  {
   "cell_type": "code",
   "execution_count": null,
   "metadata": {
    "slideshow": {
     "slide_type": "subslide"
    }
   },
   "outputs": [],
   "source": [
    "False = 0"
   ]
  },
  {
   "cell_type": "markdown",
   "metadata": {
    "slideshow": {
     "slide_type": "slide"
    }
   },
   "source": [
    "## 內建函數"
   ]
  },
  {
   "cell_type": "markdown",
   "metadata": {
    "slideshow": {
     "slide_type": "subslide"
    }
   },
   "source": [
    "## 函數是一段被命名的程式碼（Code block）\n",
    "\n",
    "- 指定輸入、參數並餵入函數\n",
    "- 函數依據輸入、參數執行一段程式碼\n",
    "- 將輸出拋給使用者"
   ]
  },
  {
   "cell_type": "markdown",
   "metadata": {
    "slideshow": {
     "slide_type": "subslide"
    }
   },
   "source": [
    "## 寫程式可以想像成是設計一組又一組的函數來完成指定任務"
   ]
  },
  {
   "cell_type": "markdown",
   "metadata": {
    "slideshow": {
     "slide_type": "subslide"
    }
   },
   "source": [
    "## 內建函數列表\n",
    "\n",
    "```\n",
    "abs()\tdelattr()\thash()\tmemoryview()\tset()\n",
    "all()\tdict()\thelp()\tmin()\tsetattr()\n",
    "any()\tdir()\thex()\tnext()\tslice()\n",
    "ascii()\tdivmod()\tid()\tobject()\tsorted()\n",
    "bin()\tenumerate()\tinput()\toct()\tstaticmethod()\n",
    "bool()\teval()\tint()\topen()\tstr()\n",
    "breakpoint()\texec()\tisinstance()\tord()\tsum()\n",
    "bytearray()\tfilter()\tissubclass()\tpow()\tsuper()\n",
    "bytes()\tfloat()\titer()\tprint()\ttuple()\n",
    "callable()\tformat()\tlen()\tproperty()\ttype()\n",
    "chr()\tfrozenset()\tlist()\trange()\tvars()\n",
    "classmethod()\tgetattr()\tlocals()\trepr()\tzip()\n",
    "compile()\tglobals()\tmap()\treversed()\t__import__()\n",
    "complex()\thasattr()\tmax()\tround()\t \n",
    "```\n",
    "\n",
    "Source: <https://docs.python.org/3/library/functions.html>"
   ]
  },
  {
   "cell_type": "code",
   "execution_count": null,
   "metadata": {
    "slideshow": {
     "slide_type": "subslide"
    }
   },
   "outputs": [],
   "source": [
    "rating = 8.8\n",
    "print(rating)"
   ]
  },
  {
   "cell_type": "code",
   "execution_count": null,
   "metadata": {},
   "outputs": [],
   "source": [
    "print = \"PRINT\"\n",
    "print(rating)"
   ]
  },
  {
   "cell_type": "code",
   "execution_count": null,
   "metadata": {
    "slideshow": {
     "slide_type": "subslide"
    }
   },
   "outputs": [],
   "source": [
    "del print\n",
    "print(rating)"
   ]
  },
  {
   "cell_type": "markdown",
   "metadata": {
    "slideshow": {
     "slide_type": "subslide"
    }
   },
   "source": [
    "## 一開始就要用的內建函數\n",
    "\n",
    "- `print()` 印出物件所記錄的資料內容\n",
    "- `help()` 暸解內建函數的作用\n",
    "- `type()` 暸解物件的類別"
   ]
  },
  {
   "cell_type": "code",
   "execution_count": null,
   "metadata": {
    "slideshow": {
     "slide_type": "subslide"
    }
   },
   "outputs": [],
   "source": [
    "help(print)"
   ]
  },
  {
   "cell_type": "code",
   "execution_count": null,
   "metadata": {
    "slideshow": {
     "slide_type": "subslide"
    }
   },
   "outputs": [],
   "source": [
    "help(help)"
   ]
  },
  {
   "cell_type": "markdown",
   "metadata": {
    "slideshow": {
     "slide_type": "subslide"
    }
   },
   "source": [
    "## 隨堂練習"
   ]
  },
  {
   "cell_type": "markdown",
   "metadata": {
    "slideshow": {
     "slide_type": "subslide"
    }
   },
   "source": [
    "## 將電影 <https://www.imdb.com/title/tt4154796> 頁面中的三個資訊儲存為物件並且印出來\n",
    "\n",
    "- 片長（以分鐘為單位）\n",
    "- 評分\n",
    "- 片名"
   ]
  },
  {
   "cell_type": "code",
   "execution_count": null,
   "metadata": {
    "slideshow": {
     "slide_type": "subslide"
    }
   },
   "outputs": [],
   "source": [
    "movie_time = 181\n",
    "movie_rating = 8.8\n",
    "movie_title = \"Avengers: Endgame\"\n",
    "print(movie_time)\n",
    "print(movie_rating)\n",
    "print(movie_title)"
   ]
  },
  {
   "cell_type": "markdown",
   "metadata": {
    "slideshow": {
     "slide_type": "subslide"
    }
   },
   "source": [
    "## 承接上題，使用 `type()` 函數將這三個物件的類別印出來"
   ]
  },
  {
   "cell_type": "code",
   "execution_count": null,
   "metadata": {
    "slideshow": {
     "slide_type": "subslide"
    }
   },
   "outputs": [],
   "source": [
    "print(type(movie_time))\n",
    "print(type(movie_rating))\n",
    "print(type(movie_title))"
   ]
  },
  {
   "cell_type": "markdown",
   "metadata": {
    "slideshow": {
     "slide_type": "slide"
    }
   },
   "source": [
    "## 整數與浮點數"
   ]
  },
  {
   "cell_type": "markdown",
   "metadata": {
    "slideshow": {
     "slide_type": "subslide"
    }
   },
   "source": [
    "## 數值運算符號（Arithmetic Operators）\n",
    "\n",
    "- `+` 、 `-` 、 `*` 、 `/` ：加減乘除\n",
    "- `**` ：次方\n",
    "- `%` ：餘數\n",
    "- `//` ：商數"
   ]
  },
  {
   "cell_type": "code",
   "execution_count": null,
   "metadata": {
    "slideshow": {
     "slide_type": "subslide"
    }
   },
   "outputs": [],
   "source": [
    "print(5 + 6)\n",
    "print(5 - 6)\n",
    "print(5 * 6)\n",
    "print(5 / 6)\n",
    "print(5**6)\n",
    "print(5566 % 56)\n",
    "print(5566 // 56)"
   ]
  },
  {
   "cell_type": "markdown",
   "metadata": {
    "slideshow": {
     "slide_type": "subslide"
    }
   },
   "source": [
    "## 遵循常見的次方優先、先乘除後加減\n",
    "\n",
    "使用小括號 `()` 調整優先順序。"
   ]
  },
  {
   "cell_type": "code",
   "execution_count": null,
   "metadata": {},
   "outputs": [],
   "source": [
    "77 - 32 * 5/9"
   ]
  },
  {
   "cell_type": "code",
   "execution_count": null,
   "metadata": {},
   "outputs": [],
   "source": [
    "(77 - 32) * 5/9"
   ]
  },
  {
   "cell_type": "markdown",
   "metadata": {
    "slideshow": {
     "slide_type": "subslide"
    }
   },
   "source": [
    "## 隨堂練習"
   ]
  },
  {
   "cell_type": "markdown",
   "metadata": {
    "slideshow": {
     "slide_type": "subslide"
    }
   },
   "source": [
    "## 將目前的攝氏氣溫轉換為華氏氣溫\n",
    "\n",
    "$$Fahrenheit = Celsius \\times \\frac{9}{5} + 32$$"
   ]
  },
  {
   "cell_type": "code",
   "execution_count": null,
   "metadata": {
    "slideshow": {
     "slide_type": "subslide"
    }
   },
   "outputs": [],
   "source": [
    "current_tempc = 25\n",
    "current_tempf = current_tempc * 9/5 + 32\n",
    "print(current_tempf)"
   ]
  },
  {
   "cell_type": "markdown",
   "metadata": {
    "slideshow": {
     "slide_type": "subslide"
    }
   },
   "source": [
    "## 承接上題，將目前的華氏氣溫轉換為攝氏氣溫\n",
    "\n",
    "$$Celsius = (Fahrenheit - 32) \\times \\frac{5}{9}$$"
   ]
  },
  {
   "cell_type": "code",
   "execution_count": null,
   "metadata": {
    "slideshow": {
     "slide_type": "subslide"
    }
   },
   "outputs": [],
   "source": [
    "print((current_tempf - 32) * 5/9)"
   ]
  },
  {
   "cell_type": "markdown",
   "metadata": {
    "slideshow": {
     "slide_type": "subslide"
    }
   },
   "source": [
    "## 計算俠客歐尼爾巔峰時期的 BMI 身體質量指數\n",
    "\n",
    "NBA 史上最偉大的中鋒之一「柴油引擎」俠客歐尼爾（Shaquille O’Neal）巔峰時期的身高為 216 公分、體重為 147 公斤。\n",
    "\n",
    "$$BMI = \\frac{weight_{kg}}{height_{m}^2}$$"
   ]
  },
  {
   "cell_type": "code",
   "execution_count": null,
   "metadata": {
    "slideshow": {
     "slide_type": "subslide"
    }
   },
   "outputs": [],
   "source": [
    "shaq_height = 216\n",
    "shaq_weight = 147\n",
    "shaq_bmi = shaq_weight/(shaq_height/100)**2 # 將身高轉換為以公尺為單位\n",
    "print(shaq_bmi)"
   ]
  },
  {
   "cell_type": "markdown",
   "metadata": {
    "slideshow": {
     "slide_type": "subslide"
    }
   },
   "source": [
    "## 運算符號的小捷徑\n",
    "\n",
    "將 `3h 1min` 換算成 `181 min`。"
   ]
  },
  {
   "cell_type": "code",
   "execution_count": null,
   "metadata": {},
   "outputs": [],
   "source": [
    "hours = 3\n",
    "mins = 1\n",
    "mins = hours * 60 + mins\n",
    "print(mins)"
   ]
  },
  {
   "cell_type": "code",
   "execution_count": null,
   "metadata": {
    "slideshow": {
     "slide_type": "subslide"
    }
   },
   "outputs": [],
   "source": [
    "hours = 3\n",
    "mins = 1\n",
    "mins += hours * 60 # 注意這行\n",
    "print(mins)"
   ]
  },
  {
   "cell_type": "markdown",
   "metadata": {
    "slideshow": {
     "slide_type": "subslide"
    }
   },
   "source": [
    "## 數值運算符號常走捷徑\n",
    "\n",
    "- `a += b` as in `a = a + b`\n",
    "- `a -= b` as in `a = a - b`\n",
    "- ...etc."
   ]
  },
  {
   "cell_type": "markdown",
   "metadata": {
    "slideshow": {
     "slide_type": "slide"
    }
   },
   "source": [
    "## 文字"
   ]
  },
  {
   "cell_type": "markdown",
   "metadata": {
    "slideshow": {
     "slide_type": "subslide"
    }
   },
   "source": [
    "## 使用成雙的單引號或成對的雙引號來建立文字，多數的時候使用單引號或者雙引號不會有分別"
   ]
  },
  {
   "cell_type": "code",
   "execution_count": null,
   "metadata": {
    "slideshow": {
     "slide_type": "subslide"
    }
   },
   "outputs": [],
   "source": [
    "movie_title = \"Avengers: Endgame\"\n",
    "print(movie_title)\n",
    "print(type(movie_title))"
   ]
  },
  {
   "cell_type": "code",
   "execution_count": null,
   "metadata": {
    "slideshow": {
     "slide_type": "-"
    }
   },
   "outputs": [],
   "source": [
    "movie_title = 'Avengers: Endgame'\n",
    "print(movie_title)\n",
    "print(type(movie_title))"
   ]
  },
  {
   "cell_type": "markdown",
   "metadata": {
    "slideshow": {
     "slide_type": "subslide"
    }
   },
   "source": [
    "## 亦可以使用六個雙引號來建立長文字，像是一個有換行的文章段落"
   ]
  },
  {
   "cell_type": "code",
   "execution_count": null,
   "metadata": {
    "slideshow": {
     "slide_type": "subslide"
    }
   },
   "outputs": [],
   "source": [
    "story_line = \"\"\"\n",
    "After the devastating events of Avengers: Infinity War (2018), the universe is in ruins. \n",
    "\n",
    "With the help of remaining allies, the Avengers assemble once more in order to undo Thanos' actions and restore order to the universe.\n",
    "\"\"\"\n",
    "print(story_line)\n",
    "print(type(story_line))"
   ]
  },
  {
   "cell_type": "markdown",
   "metadata": {
    "slideshow": {
     "slide_type": "subslide"
    }
   },
   "source": [
    "## 少數的時候使用雙引號或單引號會有差異"
   ]
  },
  {
   "cell_type": "code",
   "execution_count": null,
   "metadata": {},
   "outputs": [],
   "source": [
    "shaq = \"Shaquille O'Neal\""
   ]
  },
  {
   "cell_type": "code",
   "execution_count": null,
   "metadata": {},
   "outputs": [],
   "source": [
    "shaq = 'Shaquille O'Neal'"
   ]
  },
  {
   "cell_type": "markdown",
   "metadata": {
    "slideshow": {
     "slide_type": "subslide"
    }
   },
   "source": [
    "## Single quotes 與 Apostrophe 是不同的\n",
    "\n",
    "必須使用 `\\`（跳脫字元）來標註 Apostrophe。"
   ]
  },
  {
   "cell_type": "code",
   "execution_count": null,
   "metadata": {},
   "outputs": [],
   "source": [
    "shaq = 'Shaquille O\\'Neal'"
   ]
  },
  {
   "cell_type": "markdown",
   "metadata": {
    "slideshow": {
     "slide_type": "subslide"
    }
   },
   "source": [
    "## 隨堂練習"
   ]
  },
  {
   "cell_type": "markdown",
   "metadata": {
    "slideshow": {
     "slide_type": "subslide"
    }
   },
   "source": [
    "## I'm lovin' it!\n",
    "\n",
    "印出 I'm lovin' it!"
   ]
  },
  {
   "cell_type": "code",
   "execution_count": null,
   "metadata": {
    "slideshow": {
     "slide_type": "subslide"
    }
   },
   "outputs": [],
   "source": [
    "mcd = 'I\\'m lovin\\' it!'\n",
    "print(mcd)"
   ]
  },
  {
   "cell_type": "markdown",
   "metadata": {
    "slideshow": {
     "slide_type": "subslide"
    }
   },
   "source": [
    "## What did Ross say?\n",
    "\n",
    "Let's put aside the fact that you \"accidentally\" pick up my grandmother's ring."
   ]
  },
  {
   "cell_type": "code",
   "execution_count": null,
   "metadata": {
    "slideshow": {
     "slide_type": "subslide"
    }
   },
   "outputs": [],
   "source": [
    "ross_said = \"Let's put aside the fact that you \\\"accidentally\\\" pick up my grandmother's ring.\"\n",
    "print(ross_said)"
   ]
  },
  {
   "cell_type": "markdown",
   "metadata": {
    "slideshow": {
     "slide_type": "subslide"
    }
   },
   "source": [
    "## 以特定格式印出不同物件的數值 `\"{}\".format(data)`"
   ]
  },
  {
   "cell_type": "code",
   "execution_count": null,
   "metadata": {},
   "outputs": [],
   "source": [
    "print(\"復仇者聯盟：終局之戰的評分為：8.8\")\n",
    "print(\"復仇者聯盟：無限之戰的評分為：8.5\")"
   ]
  },
  {
   "cell_type": "code",
   "execution_count": null,
   "metadata": {
    "slideshow": {
     "slide_type": "subslide"
    }
   },
   "outputs": [],
   "source": [
    "print(\"{}的評分為：{}\".format(\"復仇者聯盟：終局之戰\", 8.8))\n",
    "print(\"{}的評分為：{}\".format(\"復仇者聯盟：無限之戰\", 8.5))"
   ]
  },
  {
   "cell_type": "markdown",
   "metadata": {
    "slideshow": {
     "slide_type": "subslide"
    }
   },
   "source": [
    "## 搭配 `input()` 函數來索取使用者輸入"
   ]
  },
  {
   "cell_type": "code",
   "execution_count": null,
   "metadata": {},
   "outputs": [],
   "source": [
    "help(input)"
   ]
  },
  {
   "cell_type": "code",
   "execution_count": null,
   "metadata": {
    "slideshow": {
     "slide_type": "subslide"
    }
   },
   "outputs": [],
   "source": [
    "movie_title = input(\"請輸入電影名稱：\")\n",
    "movie_rating = input(\"請輸入電影評分：\")\n",
    "print(\"{}的評分為：{}\".format(movie_title, movie_rating))"
   ]
  },
  {
   "cell_type": "markdown",
   "metadata": {
    "slideshow": {
     "slide_type": "subslide"
    }
   },
   "source": [
    "## 隨堂練習"
   ]
  },
  {
   "cell_type": "markdown",
   "metadata": {
    "slideshow": {
     "slide_type": "subslide"
    }
   },
   "source": [
    "## 讓使用者輸入城市名稱與天氣，並印出「我在OOO，天氣OOO」"
   ]
  },
  {
   "cell_type": "code",
   "execution_count": null,
   "metadata": {
    "slideshow": {
     "slide_type": "subslide"
    }
   },
   "outputs": [],
   "source": [
    "city = input(\"請輸入您所在的城市：\")\n",
    "weather = input(\"請輸入現在的天氣：\")\n",
    "print(\"我在{}，天氣{}\".format(city, weather))"
   ]
  },
  {
   "cell_type": "markdown",
   "metadata": {
    "slideshow": {
     "slide_type": "subslide"
    }
   },
   "source": [
    "## 文字支援 `+` 和 `*` 這兩個運算符號"
   ]
  },
  {
   "cell_type": "code",
   "execution_count": null,
   "metadata": {},
   "outputs": [],
   "source": [
    "print(\"55\" + \"66\")\n",
    "print(\"5\"*6)"
   ]
  },
  {
   "cell_type": "markdown",
   "metadata": {
    "slideshow": {
     "slide_type": "slide"
    }
   },
   "source": [
    "## 布林"
   ]
  },
  {
   "cell_type": "markdown",
   "metadata": {
    "slideshow": {
     "slide_type": "subslide"
    }
   },
   "source": [
    "## 布林只有 True 與 False 這兩個值"
   ]
  },
  {
   "cell_type": "code",
   "execution_count": null,
   "metadata": {},
   "outputs": [],
   "source": [
    "print(type(True))\n",
    "print(type(False))"
   ]
  },
  {
   "cell_type": "markdown",
   "metadata": {
    "slideshow": {
     "slide_type": "subslide"
    }
   },
   "source": [
    "## 比較符號（Comparison Operators）\n",
    "\n",
    "- `==` 、 `!=` ：等於以及不等於\n",
    "- `>` 、 `>=` 、 `<` 、 `<=` ：大於、大於等於、小於以及小於等於"
   ]
  },
  {
   "cell_type": "markdown",
   "metadata": {
    "slideshow": {
     "slide_type": "subslide"
    }
   },
   "source": [
    "## 電影評分是否高於 8.0"
   ]
  },
  {
   "cell_type": "code",
   "execution_count": null,
   "metadata": {},
   "outputs": [],
   "source": [
    "movie_rating = 8.8\n",
    "print(movie_rating > 8.0)\n",
    "print(type(movie_rating > 8.0))"
   ]
  },
  {
   "cell_type": "markdown",
   "metadata": {
    "slideshow": {
     "slide_type": "subslide"
    }
   },
   "source": [
    "## 隨堂練習"
   ]
  },
  {
   "cell_type": "markdown",
   "metadata": {
    "slideshow": {
     "slide_type": "subslide"
    }
   },
   "source": [
    "## Avengers: Endgame 在台灣是否已上映（難）"
   ]
  },
  {
   "cell_type": "code",
   "execution_count": null,
   "metadata": {
    "slideshow": {
     "slide_type": "subslide"
    }
   },
   "outputs": [],
   "source": [
    "import datetime\n",
    "\n",
    "today = datetime.datetime.now()\n",
    "release_date = datetime.datetime(2019, 4, 24)\n",
    "time_delta = today - release_date\n",
    "print(time_delta.total_seconds() > 0)"
   ]
  },
  {
   "cell_type": "markdown",
   "metadata": {
    "slideshow": {
     "slide_type": "subslide"
    }
   },
   "source": [
    "## 布林運算符號（Boolean Operators）\n",
    "\n",
    "- `not` ：非\n",
    "- `is` 、 `is not` ：是否為相同的值與類型\n",
    "- `and` 、 `or` ：交集與聯集"
   ]
  },
  {
   "cell_type": "code",
   "execution_count": null,
   "metadata": {},
   "outputs": [],
   "source": [
    "print(not True)\n",
    "print(not False)"
   ]
  },
  {
   "cell_type": "code",
   "execution_count": null,
   "metadata": {
    "slideshow": {
     "slide_type": "subslide"
    }
   },
   "outputs": [],
   "source": [
    "print(5566 is 5566.0)\n",
    "print(5566 is not \"5566\")"
   ]
  },
  {
   "cell_type": "code",
   "execution_count": null,
   "metadata": {
    "slideshow": {
     "slide_type": "subslide"
    }
   },
   "outputs": [],
   "source": [
    "print(True and True)\n",
    "print(True and False)\n",
    "print(False and False)\n",
    "print(True or True)\n",
    "print(True or False)\n",
    "print(False or False)"
   ]
  },
  {
   "cell_type": "markdown",
   "metadata": {
    "slideshow": {
     "slide_type": "slide"
    }
   },
   "source": [
    "## 資料型態轉換"
   ]
  },
  {
   "cell_type": "markdown",
   "metadata": {
    "slideshow": {
     "slide_type": "subslide"
    }
   },
   "source": [
    "## 回憶一下這個隨堂練習"
   ]
  },
  {
   "cell_type": "code",
   "execution_count": null,
   "metadata": {},
   "outputs": [],
   "source": [
    "city = input(\"請輸入您所在的城市：\")\n",
    "weather = input(\"請輸入現在的天氣：\")\n",
    "print(\"我在{}，天氣{}\".format(city, weather))"
   ]
  },
  {
   "cell_type": "markdown",
   "metadata": {
    "slideshow": {
     "slide_type": "subslide"
    }
   },
   "source": [
    "## 加入氣溫的資訊"
   ]
  },
  {
   "cell_type": "code",
   "execution_count": null,
   "metadata": {
    "slideshow": {
     "slide_type": "subslide"
    }
   },
   "outputs": [],
   "source": [
    "city = input(\"請輸入您所在的城市：\")\n",
    "weather = input(\"請輸入現在的天氣：\")\n",
    "tempc = input(\"請輸入現在的攝氏氣溫：\")\n",
    "tempf = tempc*9/5 + 32\n",
    "\n",
    "print(\"我在{}，天氣{}，攝氏 {} 度，華氏 {} 度\".format(city, weather, tempc, tempf))"
   ]
  },
  {
   "cell_type": "markdown",
   "metadata": {
    "slideshow": {
     "slide_type": "subslide"
    }
   },
   "source": [
    "## 檢查 `tempc` 的類別"
   ]
  },
  {
   "cell_type": "code",
   "execution_count": null,
   "metadata": {},
   "outputs": [],
   "source": [
    "print(type(tempc))"
   ]
  },
  {
   "cell_type": "markdown",
   "metadata": {
    "slideshow": {
     "slide_type": "subslide"
    }
   },
   "source": [
    "## 透過 `input()` 函數獲得的資料類別是文字\n",
    "\n",
    "多數的數值運算符號（Arithmetic Operators）不支援文字類別"
   ]
  },
  {
   "cell_type": "markdown",
   "metadata": {
    "slideshow": {
     "slide_type": "subslide"
    }
   },
   "source": [
    "## 使用與資料類別相同名稱的函數轉換\n",
    "\n",
    "- `int()`：轉換為整數類別\n",
    "- `float()`：轉換為浮點數類別\n",
    "- `str()`：轉換為文字類別\n",
    "- `bool()`：轉換為布林類別"
   ]
  },
  {
   "cell_type": "code",
   "execution_count": null,
   "metadata": {
    "slideshow": {
     "slide_type": "subslide"
    }
   },
   "outputs": [],
   "source": [
    "city = input(\"請輸入您所在的城市：\")\n",
    "weather = input(\"請輸入現在的天氣：\")\n",
    "tempc = input(\"請輸入現在的攝氏氣溫：\")\n",
    "tempc = float(tempc) # 轉換為浮點數類別\n",
    "tempf = tempc*9/5 + 32\n",
    "\n",
    "print(\"我在{}，天氣{}，攝氏 {} 度，華氏 {} 度\".format(city, weather, tempc, tempf))"
   ]
  },
  {
   "cell_type": "markdown",
   "metadata": {
    "slideshow": {
     "slide_type": "slide"
    }
   },
   "source": [
    "## 作業"
   ]
  },
  {
   "cell_type": "markdown",
   "metadata": {
    "slideshow": {
     "slide_type": "subslide"
    }
   },
   "source": [
    "## 球員 BMI 與過重判斷\n",
    "\n",
    "- 以 `input()` 函數請使用者輸入球員姓名、身高與體重\n",
    "- 計算球員的 BMI 並且印出\n",
    "- 超過 30 代表過重，請印出判斷結果"
   ]
  },
  {
   "cell_type": "markdown",
   "metadata": {
    "slideshow": {
     "slide_type": "subslide"
    }
   },
   "source": [
    "## 執行範例\n",
    "\n",
    "```\n",
    "## 請輸入球員姓名：俠客歐尼爾\n",
    "## 請輸入球員身高（cm）：216\n",
    "## 請輸入球員體重（kg）：147\n",
    "## 俠客歐尼爾的身體質量指數為：31.51\n",
    "## 俠客歐尼爾是否過重：True\n",
    "```"
   ]
  }
 ],
 "metadata": {
  "celltoolbar": "Slideshow",
  "kernelspec": {
   "display_name": "Python 3",
   "language": "python",
   "name": "python3"
  },
  "language_info": {
   "codemirror_mode": {
    "name": "ipython",
    "version": 3
   },
   "file_extension": ".py",
   "mimetype": "text/x-python",
   "name": "python",
   "nbconvert_exporter": "python",
   "pygments_lexer": "ipython3",
   "version": "3.7.1"
  }
 },
 "nbformat": 4,
 "nbformat_minor": 1
}
