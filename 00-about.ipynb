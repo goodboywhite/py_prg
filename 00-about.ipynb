{
 "cells": [
  {
   "cell_type": "markdown",
   "metadata": {
    "slideshow": {
     "slide_type": "slide"
    }
   },
   "source": [
    "# 成為初級資料分析師 | Python 程式設計\n",
    "\n",
    "> 關於\n",
    "\n",
    "## 郭耀仁"
   ]
  },
  {
   "cell_type": "markdown",
   "metadata": {
    "slideshow": {
     "slide_type": "subslide"
    }
   },
   "source": [
    "> Docendo discimus: The best way to learn is to teach\n",
    ">\n",
    "> Frank Oppenheimer"
   ]
  },
  {
   "cell_type": "markdown",
   "metadata": {
    "slideshow": {
     "slide_type": "subslide"
    }
   },
   "source": [
    "## 大綱\n",
    "\n",
    "- 關於課程\n",
    "- 關於講師"
   ]
  },
  {
   "cell_type": "markdown",
   "metadata": {
    "slideshow": {
     "slide_type": "slide"
    }
   },
   "source": [
    "## 關於課程"
   ]
  },
  {
   "cell_type": "markdown",
   "metadata": {
    "slideshow": {
     "slide_type": "subslide"
    }
   },
   "source": [
    "## 成為初級資料分析師\n",
    "\n",
    "1. **Python 程式設計**\n",
    "2. Python 與資料科學應用\n",
    "3. 機器學習從零至一"
   ]
  },
  {
   "cell_type": "markdown",
   "metadata": {
    "slideshow": {
     "slide_type": "subslide"
    }
   },
   "source": [
    "## Python 程式設計\n",
    "\n",
    "- 起步走\n",
    "- 資料型態\n",
    "- 流程控制：條件判斷\n",
    "- 流程控制：`while` 迴圈\n",
    "- 資料結構\n",
    "- 流程控制：`for` 迴圈\n",
    "- 程式封裝：自訂函數\n",
    "- 程式封裝：自訂類別\n",
    "- 程式封裝：自訂模組/套件\n",
    "- 常用技巧\n",
    "- 應用：網頁爬蟲"
   ]
  },
  {
   "cell_type": "markdown",
   "metadata": {
    "slideshow": {
     "slide_type": "subslide"
    }
   },
   "source": [
    "## 課程如何進行\n",
    "\n",
    "1. 概念講解\n",
    "2. 範例操作\n",
    "3. 隨堂練習\n",
    "4. <https://www.sli.do> 互動\n",
    "5. 作業"
   ]
  },
  {
   "cell_type": "markdown",
   "metadata": {
    "slideshow": {
     "slide_type": "slide"
    }
   },
   "source": [
    "## 關於講師"
   ]
  },
  {
   "cell_type": "markdown",
   "metadata": {
    "slideshow": {
     "slide_type": "subslide"
    }
   },
   "source": [
    "![Imgur](https://i.imgur.com/QY8s6B8.jpg?2)"
   ]
  },
  {
   "cell_type": "markdown",
   "metadata": {
    "slideshow": {
     "slide_type": "subslide"
    }
   },
   "source": [
    "## Python, R, 資料科學講師\n",
    "\n",
    "- 台大資工系統訓練班資深講師（授課時數 1,900+ 小時）\n",
    "- 資策會資料工程師養成班（Python 網路爬蟲、R）\n",
    "- 中華電信學院（Python 資料科學、Python 機器學習）\n",
    "- 2017 資料科學年會講者 <http://datasci.tw/tony/>\n",
    "- 玉山銀行 Python 資料科學講師"
   ]
  },
  {
   "cell_type": "markdown",
   "metadata": {
    "slideshow": {
     "slide_type": "subslide"
    }
   },
   "source": [
    "## 經營 Datainpoint\n",
    "\n",
    "- 2,300+ Likes at <https://www.facebook.com/datainpoint/>\n",
    "- 1,500+ Followers at <https://medium.com/datainpoint>\n",
    "- <https://www.datainpoint.com/>\n",
    "- 2017 iT 邦幫忙 Big Data 組冠軍 <https://ithelp.ithome.com.tw/ironman/articles/1077>"
   ]
  },
  {
   "cell_type": "markdown",
   "metadata": {
    "slideshow": {
     "slide_type": "subslide"
    }
   },
   "source": [
    "## 工作經歷\n",
    "\n",
    "- Senior Data Analyst, [Coupang](https://www.coupang.com/)\n",
    "- Senior Analytical Consultant, [SAS](https://www.sas.com)\n",
    "- Management Associate, [CTBC](https://www.ctbcbank.com/)\n",
    "- Research Intern, [McKinsey & Company](https://www.mckinsey.com/)"
   ]
  },
  {
   "cell_type": "markdown",
   "metadata": {
    "slideshow": {
     "slide_type": "subslide"
    }
   },
   "source": [
    "## 學歷\n",
    "\n",
    "- MBA@台大商研所\n",
    "- BA@台大工商管理系"
   ]
  }
 ],
 "metadata": {
  "celltoolbar": "Slideshow",
  "kernelspec": {
   "display_name": "Python 3",
   "language": "python",
   "name": "python3"
  },
  "language_info": {
   "codemirror_mode": {
    "name": "ipython",
    "version": 3
   },
   "file_extension": ".py",
   "mimetype": "text/x-python",
   "name": "python",
   "nbconvert_exporter": "python",
   "pygments_lexer": "ipython3",
   "version": "3.7.1"
  }
 },
 "nbformat": 4,
 "nbformat_minor": 2
}
