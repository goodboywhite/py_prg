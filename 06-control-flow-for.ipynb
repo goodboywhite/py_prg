{
 "cells": [
  {
   "cell_type": "markdown",
   "metadata": {
    "slideshow": {
     "slide_type": "slide"
    }
   },
   "source": [
    "# 成為初級資料分析師 | Python 程式設計\n",
    "\n",
    "> 流程控制：`for` 迴圈\n",
    "\n",
    "## 郭耀仁"
   ]
  },
  {
   "cell_type": "markdown",
   "metadata": {
    "slideshow": {
     "slide_type": "subslide"
    }
   },
   "source": [
    "> When you’ve given the same in-person advice 3 times, write a blog post.\n",
    ">\n",
    "> David Robinson"
   ]
  },
  {
   "cell_type": "markdown",
   "metadata": {
    "slideshow": {
     "slide_type": "subslide"
    }
   },
   "source": [
    "## 大綱\n",
    "\n",
    "- 資料結構是可迭代的\n",
    "- `for` 迴圈\n",
    "- `List Comprehension`\n",
    "- 迭代 `dict`\n",
    "- `enumerate()` 與 `zip()`\n",
    "- 何時用 `for`？何時用 `while`？"
   ]
  },
  {
   "cell_type": "markdown",
   "metadata": {
    "slideshow": {
     "slide_type": "slide"
    }
   },
   "source": [
    "## 資料結構是可迭代的"
   ]
  },
  {
   "cell_type": "markdown",
   "metadata": {
    "slideshow": {
     "slide_type": "subslide"
    }
   },
   "source": [
    "## 複習使用 `while` 迴圈迭代 `list`"
   ]
  },
  {
   "cell_type": "code",
   "execution_count": null,
   "metadata": {},
   "outputs": [],
   "source": [
    "# list is iterable\n",
    "genre = [\"Action\", \"Adventure\", \"Sci-Fi\"]\n",
    "i = 0\n",
    "while i < len(genre):\n",
    "    print(genre[i])\n",
    "    i += 1"
   ]
  },
  {
   "cell_type": "markdown",
   "metadata": {
    "slideshow": {
     "slide_type": "subslide"
    }
   },
   "source": [
    "## 我們目前認識的 iterables\n",
    "\n",
    "- `list`\n",
    "- `tuple`\n",
    "- `dict`\n",
    "- `set`\n",
    "- `str`"
   ]
  },
  {
   "cell_type": "code",
   "execution_count": null,
   "metadata": {
    "slideshow": {
     "slide_type": "subslide"
    }
   },
   "outputs": [],
   "source": [
    "# tuple is iterable\n",
    "genre = (\"Action\", \"Adventure\", \"Sci-Fi\")\n",
    "i = 0\n",
    "while i < len(genre):\n",
    "    print(genre[i])\n",
    "    i += 1"
   ]
  },
  {
   "cell_type": "code",
   "execution_count": null,
   "metadata": {
    "slideshow": {
     "slide_type": "subslide"
    }
   },
   "outputs": [],
   "source": [
    "# dict is iterable\n",
    "heroes = {\n",
    "    \"Iron Man\": \"Tony Stark\",\n",
    "    \"Captain America\": \"Steve Rogers\",\n",
    "    \"Hulk\": \"Bruce Banner\",\n",
    "    \"Thor\": \"Thor\",\n",
    "    \"Black Widow\": \"Natasha Romanoff\",\n",
    "    \"Hawkeye\": \"Clint Barton\"\n",
    "}\n",
    "dict_keys = list(heroes.keys())\n",
    "i = 0\n",
    "while i < len(heroes):\n",
    "    k = dict_keys[i]\n",
    "    print(heroes[k])\n",
    "    i += 1"
   ]
  },
  {
   "cell_type": "markdown",
   "metadata": {
    "slideshow": {
     "slide_type": "subslide"
    }
   },
   "source": [
    "## 值得注意 `str` 同樣具有索引與切割的特性"
   ]
  },
  {
   "cell_type": "code",
   "execution_count": null,
   "metadata": {},
   "outputs": [],
   "source": [
    "iron_man = \"Tony Stark\"\n",
    "print(iron_man[0])\n",
    "print(iron_man[-1])\n",
    "print(iron_man[:4])\n",
    "print(iron_man[-5:])"
   ]
  },
  {
   "cell_type": "code",
   "execution_count": null,
   "metadata": {
    "slideshow": {
     "slide_type": "subslide"
    }
   },
   "outputs": [],
   "source": [
    "# str is also iterable!\n",
    "iron_man = \"Tony Stark\"\n",
    "i = 0\n",
    "while i < len(iron_man):\n",
    "    print(iron_man[i])\n",
    "    i += 1"
   ]
  },
  {
   "cell_type": "markdown",
   "metadata": {
    "slideshow": {
     "slide_type": "subslide"
    }
   },
   "source": [
    "## 除了 `str` 其他資料型態是不可迭代的\n",
    "\n",
    "- `int`\n",
    "- `float`\n",
    "- `bool`"
   ]
  },
  {
   "cell_type": "markdown",
   "metadata": {
    "slideshow": {
     "slide_type": "subslide"
    }
   },
   "source": [
    "## 因為這些資料型態沒有辦法像 `str` 一般索引或切割"
   ]
  },
  {
   "cell_type": "code",
   "execution_count": null,
   "metadata": {},
   "outputs": [],
   "source": [
    "my_int = 5566\n",
    "my_float = 55.66\n",
    "my_bool = True\n",
    "\n",
    "print(my_int[0])\n",
    "print(my_float[0])\n",
    "print(my_bool[0])"
   ]
  },
  {
   "cell_type": "markdown",
   "metadata": {
    "slideshow": {
     "slide_type": "subslide"
    }
   },
   "source": [
    "## 針對可迭代的物件（Iterables），比 `while` 更簡便的迴圈是 `for`"
   ]
  },
  {
   "cell_type": "markdown",
   "metadata": {
    "slideshow": {
     "slide_type": "slide"
    }
   },
   "source": [
    "## `for` 迴圈"
   ]
  },
  {
   "cell_type": "markdown",
   "metadata": {
    "slideshow": {
     "slide_type": "subslide"
    }
   },
   "source": [
    "## `for` 迴圈的 Code Block\n",
    "\n",
    "- `for` 保留字\n",
    "- 游標名稱\n",
    "- `in` 保留字\n",
    "- 可迭代的物件\n",
    "- 縮排中編寫重複運行的程式（整合前面課堂所學得的知識）\n",
    "\n",
    "```python\n",
    "for i in <Iterable>: # for 保留字、游標名稱、in 保留字、可迭代的物件\n",
    "    # 縮排中編寫重複運行的程式\n",
    "```"
   ]
  },
  {
   "cell_type": "markdown",
   "metadata": {
    "slideshow": {
     "slide_type": "subslide"
    }
   },
   "source": [
    "## 印出介於 1 到 100 之間的整數\n",
    "\n",
    "該去哪裡找出有 1 到 100 的可迭代物件呢？"
   ]
  },
  {
   "cell_type": "code",
   "execution_count": null,
   "metadata": {
    "slideshow": {
     "slide_type": "-"
    }
   },
   "outputs": [],
   "source": [
    "help(range)\n",
    "print(range(100))\n",
    "print(range(1, 101))"
   ]
  },
  {
   "cell_type": "code",
   "execution_count": null,
   "metadata": {
    "slideshow": {
     "slide_type": "subslide"
    }
   },
   "outputs": [],
   "source": [
    "for i in range(1, 101):\n",
    "    print(i)"
   ]
  },
  {
   "cell_type": "markdown",
   "metadata": {
    "slideshow": {
     "slide_type": "subslide"
    }
   },
   "source": [
    "## 常見的迴圈任務不會只是 print()\n",
    "\n",
    "- 計數（Counter）\n",
    "- 加總（Summation）"
   ]
  },
  {
   "cell_type": "markdown",
   "metadata": {
    "slideshow": {
     "slide_type": "subslide"
    }
   },
   "source": [
    "## 計算 1 到 100 的之間有幾個整數"
   ]
  },
  {
   "cell_type": "code",
   "execution_count": null,
   "metadata": {
    "slideshow": {
     "slide_type": "-"
    }
   },
   "outputs": [],
   "source": [
    "# 計數\n",
    "int_cnt = 0\n",
    "for i in range(1, 101):\n",
    "    int_cnt += 1\n",
    "print(int_cnt)"
   ]
  },
  {
   "cell_type": "markdown",
   "metadata": {
    "slideshow": {
     "slide_type": "subslide"
    }
   },
   "source": [
    "## 計算 1 加到 100 的總和：[The Story of Gauss](https://www.nctm.org/Publications/Teaching-Children-Mathematics/Blog/The-Story-of-Gauss/)"
   ]
  },
  {
   "cell_type": "code",
   "execution_count": null,
   "metadata": {
    "slideshow": {
     "slide_type": "-"
    }
   },
   "outputs": [],
   "source": [
    "# 加總\n",
    "summation = 0\n",
    "for i in range(1, 101):\n",
    "    summation += i\n",
    "print(summation)"
   ]
  },
  {
   "cell_type": "markdown",
   "metadata": {
    "slideshow": {
     "slide_type": "subslide"
    }
   },
   "source": [
    "## 印出介於 1 到 100 之間的偶數"
   ]
  },
  {
   "cell_type": "code",
   "execution_count": null,
   "metadata": {
    "slideshow": {
     "slide_type": "-"
    }
   },
   "outputs": [],
   "source": [
    "for i in range(2, 101, 2):\n",
    "    print(i)"
   ]
  },
  {
   "cell_type": "markdown",
   "metadata": {
    "slideshow": {
     "slide_type": "subslide"
    }
   },
   "source": [
    "## 隨堂練習"
   ]
  },
  {
   "cell_type": "markdown",
   "metadata": {
    "slideshow": {
     "slide_type": "subslide"
    }
   },
   "source": [
    "## 印出介於 x 到 y 之間的奇數（包含 x 與 y 假如它們是奇數）"
   ]
  },
  {
   "cell_type": "code",
   "execution_count": null,
   "metadata": {},
   "outputs": [],
   "source": [
    "x = int(input(\"請輸入起始的正整數：\"))\n",
    "y = int(input(\"請輸入終止的正整數：\"))\n",
    "for i in range(x, y + 1):\n",
    "    if i % 2:\n",
    "        print(i)"
   ]
  },
  {
   "cell_type": "markdown",
   "metadata": {
    "slideshow": {
     "slide_type": "subslide"
    }
   },
   "source": [
    "## 承接上題，介於 x 到 y 之間的奇數有幾個（包含 x 與 y 假如它們是奇數）"
   ]
  },
  {
   "cell_type": "code",
   "execution_count": null,
   "metadata": {},
   "outputs": [],
   "source": [
    "x = int(input(\"請輸入起始的正整數：\"))\n",
    "y = int(input(\"請輸入終止的正整數：\"))\n",
    "odds_cnt = 0\n",
    "for i in range(x, y + 1):\n",
    "    if i % 2:\n",
    "        odds_cnt += 1\n",
    "print(odds_cnt)"
   ]
  },
  {
   "cell_type": "markdown",
   "metadata": {
    "slideshow": {
     "slide_type": "subslide"
    }
   },
   "source": [
    "## 承接上題，介於 x 到 y 之間的奇數加總為何（包含 x 與 y 假如它們是奇數）"
   ]
  },
  {
   "cell_type": "code",
   "execution_count": null,
   "metadata": {},
   "outputs": [],
   "source": [
    "x = int(input(\"請輸入起始的正整數：\"))\n",
    "y = int(input(\"請輸入終止的正整數：\"))\n",
    "odds_sum = 0\n",
    "for i in range(x, y + 1):\n",
    "    if i % 2:\n",
    "        odds_sum += i\n",
    "print(odds_sum)"
   ]
  },
  {
   "cell_type": "markdown",
   "metadata": {
    "slideshow": {
     "slide_type": "subslide"
    }
   },
   "source": [
    "## 判斷質數\n",
    "\n",
    "在大於 1 的正整數中，除了 1 和該數自身外，無法被其他正整數整除的數字。"
   ]
  },
  {
   "cell_type": "code",
   "execution_count": null,
   "metadata": {
    "slideshow": {
     "slide_type": "-"
    }
   },
   "outputs": [],
   "source": [
    "user_int = int(input(\"請輸入一個正整數：\"))\n",
    "divisors = []\n",
    "for i in range(1, user_int + 1):\n",
    "    if user_int % i == 0:\n",
    "        divisors.append(i)\n",
    "    if len(divisors) > 2:\n",
    "        break\n",
    "if len(divisors) == 2:\n",
    "    print(\"{} 是質數\".format(user_int))\n",
    "else:\n",
    "    print(\"{} 不是質數\".format(user_int))"
   ]
  },
  {
   "cell_type": "markdown",
   "metadata": {
    "slideshow": {
     "slide_type": "slide"
    }
   },
   "source": [
    "## `List Comprehension`"
   ]
  },
  {
   "cell_type": "markdown",
   "metadata": {
    "slideshow": {
     "slide_type": "subslide"
    }
   },
   "source": [
    "## 將使用 loop 構建 list 壓縮為簡潔單行的方法"
   ]
  },
  {
   "cell_type": "code",
   "execution_count": null,
   "metadata": {
    "slideshow": {
     "slide_type": "subslide"
    }
   },
   "outputs": [],
   "source": [
    "# Conventional\n",
    "squared = []\n",
    "for i in range(10):\n",
    "    squared.append(i**2)\n",
    "print(squared)"
   ]
  },
  {
   "cell_type": "code",
   "execution_count": null,
   "metadata": {
    "slideshow": {
     "slide_type": "fragment"
    }
   },
   "outputs": [],
   "source": [
    "# List comprehension\n",
    "squared = [i**2 for i in range(10)]\n",
    "print(squared)"
   ]
  },
  {
   "cell_type": "markdown",
   "metadata": {
    "slideshow": {
     "slide_type": "subslide"
    }
   },
   "source": [
    "## List Comprehension 搭配 `if` 條件判斷"
   ]
  },
  {
   "cell_type": "code",
   "execution_count": null,
   "metadata": {},
   "outputs": [],
   "source": [
    "# List comprehension with if\n",
    "odds = [i for i in range(10) if i % 2]\n",
    "print(odds)"
   ]
  },
  {
   "cell_type": "markdown",
   "metadata": {
    "slideshow": {
     "slide_type": "subslide"
    }
   },
   "source": [
    "## List Comprehension 搭配 `if else` 條件判斷"
   ]
  },
  {
   "cell_type": "code",
   "execution_count": null,
   "metadata": {},
   "outputs": [],
   "source": [
    "# List comprehension with if else\n",
    "is_odds = [True if i % 2 else False for i in range(10)]\n",
    "print(is_odds)"
   ]
  },
  {
   "cell_type": "markdown",
   "metadata": {
    "slideshow": {
     "slide_type": "subslide"
    }
   },
   "source": [
    "## 隨堂練習"
   ]
  },
  {
   "cell_type": "markdown",
   "metadata": {
    "slideshow": {
     "slide_type": "subslide"
    }
   },
   "source": [
    "## 將復仇者聯盟系列電影評等大於 8 分的挑選出來"
   ]
  },
  {
   "cell_type": "code",
   "execution_count": null,
   "metadata": {},
   "outputs": [],
   "source": [
    "avengers_ratings = [8.1, 7.3, 8.5, 8.8]\n",
    "recommendations = [i for i in avengers_ratings if i >= 8]\n",
    "print(recommendations)"
   ]
  },
  {
   "cell_type": "markdown",
   "metadata": {
    "slideshow": {
     "slide_type": "slide"
    }
   },
   "source": [
    "## 迭代 `dict`"
   ]
  },
  {
   "cell_type": "markdown",
   "metadata": {
    "slideshow": {
     "slide_type": "subslide"
    }
   },
   "source": [
    "## 迭代 `dict` 的兩個元件 \n",
    "\n",
    "- `.keys()`：預設\n",
    "- `.values()`\n",
    "- `.items()`：同時迭代 `key` 與 `value`"
   ]
  },
  {
   "cell_type": "code",
   "execution_count": null,
   "metadata": {
    "slideshow": {
     "slide_type": "subslide"
    }
   },
   "outputs": [],
   "source": [
    "# dict is iterable\n",
    "heroes = {\n",
    "    \"Iron Man\": \"Tony Stark\",\n",
    "    \"Captain America\": \"Steve Rogers\",\n",
    "    \"Hulk\": \"Bruce Banner\",\n",
    "    \"Thor\": \"Thor\",\n",
    "    \"Black Widow\": \"Natasha Romanoff\",\n",
    "    \"Hawkeye\": \"Clint Barton\"\n",
    "}\n",
    "for k in heroes:\n",
    "    print(k)"
   ]
  },
  {
   "cell_type": "code",
   "execution_count": null,
   "metadata": {
    "slideshow": {
     "slide_type": "subslide"
    }
   },
   "outputs": [],
   "source": [
    "# dict is iterable\n",
    "heroes = {\n",
    "    \"Iron Man\": \"Tony Stark\",\n",
    "    \"Captain America\": \"Steve Rogers\",\n",
    "    \"Hulk\": \"Bruce Banner\",\n",
    "    \"Thor\": \"Thor\",\n",
    "    \"Black Widow\": \"Natasha Romanoff\",\n",
    "    \"Hawkeye\": \"Clint Barton\"\n",
    "}\n",
    "for k in heroes.keys():\n",
    "    print(k)"
   ]
  },
  {
   "cell_type": "code",
   "execution_count": null,
   "metadata": {
    "slideshow": {
     "slide_type": "subslide"
    }
   },
   "outputs": [],
   "source": [
    "# dict is iterable\n",
    "heroes = {\n",
    "    \"Iron Man\": \"Tony Stark\",\n",
    "    \"Captain America\": \"Steve Rogers\",\n",
    "    \"Hulk\": \"Bruce Banner\",\n",
    "    \"Thor\": \"Thor\",\n",
    "    \"Black Widow\": \"Natasha Romanoff\",\n",
    "    \"Hawkeye\": \"Clint Barton\"\n",
    "}\n",
    "for v in heroes.values():\n",
    "    print(v)"
   ]
  },
  {
   "cell_type": "code",
   "execution_count": 7,
   "metadata": {
    "slideshow": {
     "slide_type": "subslide"
    }
   },
   "outputs": [
    {
     "name": "stdout",
     "output_type": "stream",
     "text": [
      "Iron Man : Tony Stark\n",
      "Captain America : Steve Rogers\n",
      "Hulk : Bruce Banner\n",
      "Thor : Thor\n",
      "Black Widow : Natasha Romanoff\n",
      "Hawkeye : Clint Barton\n"
     ]
    }
   ],
   "source": [
    "# dict is iterable\n",
    "heroes = {\n",
    "    \"Iron Man\": \"Tony Stark\",\n",
    "    \"Captain America\": \"Steve Rogers\",\n",
    "    \"Hulk\": \"Bruce Banner\",\n",
    "    \"Thor\": \"Thor\",\n",
    "    \"Black Widow\": \"Natasha Romanoff\",\n",
    "    \"Hawkeye\": \"Clint Barton\"\n",
    "}\n",
    "for k, v in heroes.items():\n",
    "    print(k, \":\", v)"
   ]
  },
  {
   "cell_type": "markdown",
   "metadata": {
    "slideshow": {
     "slide_type": "slide"
    }
   },
   "source": [
    "## `enumerate()` 與 `zip()`"
   ]
  },
  {
   "cell_type": "markdown",
   "metadata": {
    "slideshow": {
     "slide_type": "subslide"
    }
   },
   "source": [
    "## `enumerate()` 可以在迴圈中取用 iterable 中的索引值和資料"
   ]
  },
  {
   "cell_type": "code",
   "execution_count": null,
   "metadata": {},
   "outputs": [],
   "source": [
    "avengers = [\"The Avengers\", \"Avengers: Age of Ultron\", \"Avengers: Infinity War\", \"Avengers: Endgame\"]\n",
    "for i, val in enumerate(avengers):\n",
    "    print(\"{}: {}\".format(i, val))"
   ]
  },
  {
   "cell_type": "markdown",
   "metadata": {
    "slideshow": {
     "slide_type": "subslide"
    }
   },
   "source": [
    "## 隨堂練習"
   ]
  },
  {
   "cell_type": "markdown",
   "metadata": {
    "slideshow": {
     "slide_type": "subslide"
    }
   },
   "source": [
    "## 標記復仇者聯盟的上映順序\n",
    "\n",
    "```\n",
    "## 第 1 部上映的復仇者聯盟是：The Avengers\n",
    "## 第 2 部上映的復仇者聯盟是：Avengers: Age of Ultron\n",
    "## 第 3 部上映的復仇者聯盟是：Avengers: Infinity War\n",
    "## 第 4 部上映的復仇者聯盟是：Avengers: Endgame\n",
    "```"
   ]
  },
  {
   "cell_type": "code",
   "execution_count": null,
   "metadata": {
    "slideshow": {
     "slide_type": "subslide"
    }
   },
   "outputs": [],
   "source": [
    "avengers = [\"The Avengers\", \"Avengers: Age of Ultron\", \"Avengers: Infinity War\", \"Avengers: Endgame\"]\n",
    "for i, val in enumerate(avengers):\n",
    "    print(\"第 {} 部上映的復仇者聯盟是：{}\".format(i+1, val))"
   ]
  },
  {
   "cell_type": "markdown",
   "metadata": {
    "slideshow": {
     "slide_type": "subslide"
    }
   },
   "source": [
    "## `zip()` 可以在迴圈中同時取用多個 iterables 資料"
   ]
  },
  {
   "cell_type": "code",
   "execution_count": null,
   "metadata": {},
   "outputs": [],
   "source": [
    "years = [2012, 2015, 2018, 2019]\n",
    "avengers = [\"The Avengers\", \"Avengers: Age of Ultron\", \"Avengers: Infinity War\", \"Avengers: Endgame\"]\n",
    "for y, m in zip(years, avengers):\n",
    "    print(\"{}: {}\".format(y, m))"
   ]
  },
  {
   "cell_type": "markdown",
   "metadata": {
    "slideshow": {
     "slide_type": "subslide"
    }
   },
   "source": [
    "## 隨堂練習"
   ]
  },
  {
   "cell_type": "markdown",
   "metadata": {
    "slideshow": {
     "slide_type": "subslide"
    }
   },
   "source": [
    "## 標記復仇者聯盟的上映順序與年份\n",
    "\n",
    "```\n",
    "## 第 1 部復仇者聯盟：The Avengers 上映年份為 2012\n",
    "## 第 2 部復仇者聯盟：Avengers: Age of Ultron 上映年份為 2015\n",
    "## 第 3 部復仇者聯盟：Avengers: Infinity War 上映年份為 2018\n",
    "## 第 4 部復仇者聯盟：Avengers: Endgame 上映年份為 2019\n",
    "```"
   ]
  },
  {
   "cell_type": "code",
   "execution_count": null,
   "metadata": {
    "slideshow": {
     "slide_type": "subslide"
    }
   },
   "outputs": [],
   "source": [
    "years = [2012, 2015, 2018, 2019]\n",
    "avengers = [\"The Avengers\", \"Avengers: Age of Ultron\", \"Avengers: Infinity War\", \"Avengers: Endgame\"]\n",
    "for y, m, i in zip(years, avengers, range(4)):\n",
    "    print(\"第 {} 部復仇者聯盟：{} 上映年份為 {}\".format(i+1, m, y))"
   ]
  },
  {
   "cell_type": "markdown",
   "metadata": {
    "slideshow": {
     "slide_type": "subslide"
    }
   },
   "source": [
    "## 何時用 `for`？何時用 `while`？"
   ]
  },
  {
   "cell_type": "markdown",
   "metadata": {
    "slideshow": {
     "slide_type": "subslide"
    }
   },
   "source": [
    "## 所有的 `for` 都可以用 `while` 重現，但反之不然\n",
    "\n",
    "- 確定重複運行次數的情境：可以採用 `for` 或 `while`\n",
    "- 不確定重複運行次數的情境：僅能採用 `while`"
   ]
  },
  {
   "cell_type": "markdown",
   "metadata": {
    "slideshow": {
     "slide_type": "subslide"
    }
   },
   "source": [
    "## 隨堂練習"
   ]
  },
  {
   "cell_type": "markdown",
   "metadata": {
    "slideshow": {
     "slide_type": "subslide"
    }
   },
   "source": [
    "## 從 1 到 1000 的整數中隨機抽樣，記錄第幾次可以抽到 56 的倍數（難）"
   ]
  },
  {
   "cell_type": "code",
   "execution_count": null,
   "metadata": {
    "slideshow": {
     "slide_type": "fragment"
    }
   },
   "outputs": [],
   "source": [
    "from random import sample\n",
    "\n",
    "sampling_times = 0\n",
    "while True:\n",
    "    sample_num = sample(range(1, 1001), 1)[0]\n",
    "    sampling_times += 1\n",
    "    if sample_num % 56 == 0:\n",
    "        break\n",
    "print(sampling_times)"
   ]
  },
  {
   "cell_type": "markdown",
   "metadata": {
    "slideshow": {
     "slide_type": "subslide"
    }
   },
   "source": [
    "## 作業"
   ]
  },
  {
   "cell_type": "markdown",
   "metadata": {
    "slideshow": {
     "slide_type": "subslide"
    }
   },
   "source": [
    "## 計算字串英文字母的母音（a, e, i, o, u）個數"
   ]
  },
  {
   "cell_type": "markdown",
   "metadata": {
    "slideshow": {
     "slide_type": "subslide"
    }
   },
   "source": [
    "## 執行範例\n",
    "\n",
    "如果使用者輸入 'azcbobobegghakl'，應該印出：\n",
    "\n",
    "```\n",
    "## 請輸入一個英文字串: azcbobobegghakl\n",
    "## Number of vowels: 5\n",
    "```"
   ]
  },
  {
   "cell_type": "markdown",
   "metadata": {
    "slideshow": {
     "slide_type": "subslide"
    }
   },
   "source": [
    "## 計算字串裡面 'bob' 出現的次數"
   ]
  },
  {
   "cell_type": "markdown",
   "metadata": {
    "slideshow": {
     "slide_type": "subslide"
    }
   },
   "source": [
    "## 執行範例\n",
    "\n",
    "如果使用者輸入 'azcbobobegghakl'，應該印出：\n",
    "\n",
    "```\n",
    "## 請輸入一個英文字串: azcbobobegghakl\n",
    "## Number of times bob occurs is: 2\n",
    "```"
   ]
  },
  {
   "cell_type": "markdown",
   "metadata": {
    "slideshow": {
     "slide_type": "subslide"
    }
   },
   "source": [
    "## 計算 `range(1, 101)` 的[樣本標準差](https://zh.wikipedia.org/wiki/%E6%A8%99%E6%BA%96%E5%B7%AE)\n",
    "\n",
    "$$SD = \\sqrt{\\frac{1}{N-1}\\sum_{i=1}^{N}(x_i - \\bar{x})^2}$$"
   ]
  },
  {
   "cell_type": "markdown",
   "metadata": {
    "slideshow": {
     "slide_type": "subslide"
    }
   },
   "source": [
    "## 執行範例\n",
    "\n",
    "```\n",
    "## range(1, 101) 的樣本標準差為 29.0115\n",
    "```"
   ]
  }
 ],
 "metadata": {
  "celltoolbar": "Slideshow",
  "kernelspec": {
   "display_name": "Python 3",
   "language": "python",
   "name": "python3"
  },
  "language_info": {
   "codemirror_mode": {
    "name": "ipython",
    "version": 3
   },
   "file_extension": ".py",
   "mimetype": "text/x-python",
   "name": "python",
   "nbconvert_exporter": "python",
   "pygments_lexer": "ipython3",
   "version": "3.7.1"
  }
 },
 "nbformat": 4,
 "nbformat_minor": 1
}
